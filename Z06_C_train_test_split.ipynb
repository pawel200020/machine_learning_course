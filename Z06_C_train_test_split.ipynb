{
 "cells": [
  {
   "cell_type": "markdown",
   "metadata": {},
   "source": [
    "# Train test split\n"
   ]
  },
  {
   "cell_type": "code",
   "execution_count": 1,
   "metadata": {
    "collapsed": true
   },
   "outputs": [],
   "source": [
    "import numpy as np\n",
    "import pandas as pd\n",
    "import scipy.stats as stats\n",
    "import sklearn.linear_model as lm\n",
    "from sklearn import datasets, linear_model\n",
    "import matplotlib.pyplot as plt\n",
    "\n",
    "from sklearn.preprocessing import PolynomialFeatures\n",
    "from sklearn.pipeline import make_pipeline\n",
    "\n",
    "from sklearn import  metrics"
   ]
  },
  {
   "cell_type": "markdown",
   "metadata": {},
   "source": [
    "Rozważmy następujący zbiór punktów:"
   ]
  },
  {
   "cell_type": "code",
   "execution_count": 2,
   "metadata": {},
   "outputs": [
    {
     "data": {
      "image/png": "[encoded data removed]",
      "text/plain": [
       "<Figure size 432x288 with 1 Axes>"
      ]
     },
     "metadata": {
      "needs_background": "light"
     },
     "output_type": "display_data"
    }
   ],
   "source": [
    "x = stats.uniform(0,3).rvs(100)\n",
    "f = lambda x: ((x*2-1)*(x**2-2)*(x-2)+3)\n",
    "y = f(x) + stats.norm(0,0.3).rvs(len(x))\n",
    "plt.plot(x, y, 'ok', ms=10);\n",
    "plt.show()"
   ]
  },
  {
   "cell_type": "markdown",
   "metadata": {},
   "source": [
    "# Przykład\n",
    "Podziel zbiór danych na część testową i treningową. \n",
    "Naucz model na części treningowej i ocen wyniki na części testowej."
   ]
  },
  {
   "cell_type": "code",
   "execution_count": 3,
   "metadata": {},
   "outputs": [
    {
     "name": "stdout",
     "output_type": "stream",
     "text": [
      "(60,) (60,)\n",
      "(40,) (40,)\n"
     ]
    }
   ],
   "source": [
    "from sklearn.model_selection import train_test_split\n",
    "X_train, X_test, y_train, y_test = train_test_split(x, y, test_size=0.4, random_state=0)\n",
    "\n",
    "print(X_train.shape, y_train.shape)\n",
    "print(X_test.shape, y_test.shape)"
   ]
  },
  {
   "cell_type": "code",
   "execution_count": 4,
   "metadata": {
    "collapsed": true
   },
   "outputs": [],
   "source": [
    "X_train=np.vstack(X_train)\n",
    "X_test=np.vstack(X_test)"
   ]
  },
  {
   "cell_type": "code",
   "execution_count": 5,
   "metadata": {},
   "outputs": [
    {
     "data": {
      "text/plain": [
       "array([ 8.96152762e-01,  4.17746060e-02,  2.13909616e+01,  4.85784460e+00,\n",
       "       -6.86742556e-02,  1.77532353e+01,  4.54604088e-02,  1.58223186e+00,\n",
       "        1.18986793e-01,  1.45667171e+00,  3.93233994e+00,  4.21273522e+00,\n",
       "        7.11900052e+00,  1.73804622e+01,  1.65288706e-01,  1.80750427e-02,\n",
       "        4.08623490e+00,  1.89942970e+01,  1.61534802e+01,  9.17621138e+00,\n",
       "        2.71557412e+00, -5.63399755e-02,  4.26605930e+00,  3.09276022e+00,\n",
       "        1.93631679e+01,  2.16312424e+01,  2.37931207e+00, -2.75518162e-02,\n",
       "        3.31252107e+00,  4.40654027e+00,  3.25372248e-01,  1.24286683e+01,\n",
       "        1.43988423e+01,  2.98878342e-01,  1.30599476e+01,  2.64068966e+00,\n",
       "        1.70938796e+01,  2.84623852e-01,  1.62138612e+00,  9.64690525e+00])"
      ]
     },
     "execution_count": 5,
     "metadata": {},
     "output_type": "execute_result"
    }
   ],
   "source": [
    "model2 = make_pipeline(PolynomialFeatures(2), linear_model.LinearRegression())\n",
    "model2.fit(X_train, y_train)\n",
    "model2.predict(X_test)"
   ]
  },
  {
   "cell_type": "code",
   "execution_count": 6,
   "metadata": {},
   "outputs": [
    {
     "name": "stdout",
     "output_type": "stream",
     "text": [
      "Explained variance score: 0.8176443165261699\n",
      "Explained variance score: 0.8176443165261699\n",
      "Median absolute error: 3.1207153956093743\n",
      "Mean squared error: 12.235085287148646\n",
      "Mean absolute errors: 2.978237996903135\n"
     ]
    }
   ],
   "source": [
    "print(\"Explained variance score: {}\".format( metrics.explained_variance_score(y_test, model2.predict(X_test)) ))\n",
    "print(\"Explained variance score: {}\".format( metrics.explained_variance_score(y_test, model2.predict(X_test)) ))\n",
    "print(\"Median absolute error: {}\".format( metrics.median_absolute_error(y_test, model2.predict(X_test)) ))\n",
    "print(\"Mean squared error: {}\".format( metrics.mean_squared_error(y_test, model2.predict(X_test)) ))\n",
    "print(\"Mean absolute errors: {}\".format(metrics.mean_absolute_error(y_test, model2.predict(X_test)) ))"
   ]
  },
  {
   "cell_type": "markdown",
   "metadata": {},
   "source": [
    "# Zadanie\n",
    "Wylicz powyższe miary na zbiorze testowym dla wszystkich modeli nauczonych na trainie:\n",
    "\n",
    "- regrsji linowej\n",
    "- regrsji wielomianowej stopnia 2\n",
    "- regrsji wielomianowej stopnia 3\n",
    "- regrsji wielomianowej stopnia 4\n",
    "- regrsji wielomianowej stopnia 5\n",
    "- regrsji wielomianowej stopnia 25"
   ]
  },
  {
   "cell_type": "code",
   "execution_count": 11,
   "metadata": {
    "collapsed": true
   },
   "outputs": [
    {
     "name": "stdout",
     "output_type": "stream",
     "text": [
      "linear\n",
      "Explained variance score: 0.5645490073120898\n",
      "Explained variance score: 0.5645490073120898\n",
      "Median absolute error: 2.926477874803785\n",
      "Mean squared error: 28.07795554522375\n",
      "Mean absolute errors: 3.832380126676413\n",
      "2nd degree\n",
      "Explained variance score: 0.8176443165261699\n",
      "Explained variance score: 0.8176443165261699\n",
      "Median absolute error: 3.1207153956093743\n",
      "Mean squared error: 12.235085287148646\n",
      "Mean absolute errors: 2.978237996903135\n",
      "3rd degree\n",
      "Explained variance score: 0.9910043331581291\n",
      "Explained variance score: 0.9910043331581291\n",
      "Median absolute error: 0.7500949000107093\n",
      "Mean squared error: 0.6091042569679458\n",
      "Mean absolute errors: 0.690130925888233\n",
      "4th degree\n",
      "Explained variance score: 0.998496541550002\n",
      "Explained variance score: 0.998496541550002\n",
      "Median absolute error: 0.17208253129806095\n",
      "Mean squared error: 0.09589254214307646\n",
      "Mean absolute errors: 0.23896011260195368\n",
      "5th degree\n",
      "Explained variance score: 0.9984961984053311\n",
      "Explained variance score: 0.9984961984053311\n",
      "Median absolute error: 0.17234732631257987\n",
      "Mean squared error: 0.09593735773099187\n",
      "Mean absolute errors: 0.23872958892647\n",
      "5th degree\n",
      "Explained variance score: 0.9980576639943606\n",
      "Explained variance score: 0.9980576639943606\n",
      "Median absolute error: 0.17190322819150827\n",
      "Mean squared error: 0.12584063762880193\n",
      "Mean absolute errors: 0.2630176308721623\n"
     ]
    }
   ],
   "source": [
    "model0 = make_pipeline( linear_model.LinearRegression())\n",
    "model0.fit(X_train, y_train)\n",
    "model0.predict(X_test)\n",
    "print(\"linear\")\n",
    "print(\"Explained variance score: {}\".format( metrics.explained_variance_score(y_test, model0.predict(X_test)) ))\n",
    "print(\"Explained variance score: {}\".format( metrics.explained_variance_score(y_test, model0.predict(X_test)) ))\n",
    "print(\"Median absolute error: {}\".format( metrics.median_absolute_error(y_test, model0.predict(X_test)) ))\n",
    "print(\"Mean squared error: {}\".format( metrics.mean_squared_error(y_test, model0.predict(X_test)) ))\n",
    "print(\"Mean absolute errors: {}\".format(metrics.mean_absolute_error(y_test, model0.predict(X_test)) ))\n",
    "\n",
    "model2= make_pipeline(PolynomialFeatures(2), linear_model.LinearRegression())\n",
    "model2.fit(X_train, y_train)\n",
    "model2.predict(X_test)\n",
    "print(\"2nd degree\")\n",
    "print(\"Explained variance score: {}\".format( metrics.explained_variance_score(y_test, model2.predict(X_test)) ))\n",
    "print(\"Explained variance score: {}\".format( metrics.explained_variance_score(y_test, model2.predict(X_test)) ))\n",
    "print(\"Median absolute error: {}\".format( metrics.median_absolute_error(y_test, model2.predict(X_test)) ))\n",
    "print(\"Mean squared error: {}\".format( metrics.mean_squared_error(y_test, model2.predict(X_test)) ))\n",
    "print(\"Mean absolute errors: {}\".format(metrics.mean_absolute_error(y_test, model2.predict(X_test)) ))\n",
    "\n",
    "model3= make_pipeline(PolynomialFeatures(3), linear_model.LinearRegression())\n",
    "model3.fit(X_train, y_train)\n",
    "model3.predict(X_test)\n",
    "print(\"3rd degree\")\n",
    "print(\"Explained variance score: {}\".format( metrics.explained_variance_score(y_test, model3.predict(X_test)) ))\n",
    "print(\"Explained variance score: {}\".format( metrics.explained_variance_score(y_test, model3.predict(X_test)) ))\n",
    "print(\"Median absolute error: {}\".format( metrics.median_absolute_error(y_test, model3.predict(X_test)) ))\n",
    "print(\"Mean squared error: {}\".format( metrics.mean_squared_error(y_test, model3.predict(X_test)) ))\n",
    "print(\"Mean absolute errors: {}\".format(metrics.mean_absolute_error(y_test, model3.predict(X_test)) ))\n",
    "\n",
    "model4= make_pipeline(PolynomialFeatures(4), linear_model.LinearRegression())\n",
    "model4.fit(X_train, y_train)\n",
    "model4.predict(X_test)\n",
    "print(\"4th degree\")\n",
    "print(\"Explained variance score: {}\".format( metrics.explained_variance_score(y_test, model4.predict(X_test)) ))\n",
    "print(\"Explained variance score: {}\".format( metrics.explained_variance_score(y_test, model4.predict(X_test)) ))\n",
    "print(\"Median absolute error: {}\".format( metrics.median_absolute_error(y_test, model4.predict(X_test)) ))\n",
    "print(\"Mean squared error: {}\".format( metrics.mean_squared_error(y_test, model4.predict(X_test)) ))\n",
    "print(\"Mean absolute errors: {}\".format(metrics.mean_absolute_error(y_test, model4.predict(X_test)) ))\n",
    "\n",
    "\n",
    "model5= make_pipeline(PolynomialFeatures(5), linear_model.LinearRegression())\n",
    "model5.fit(X_train, y_train)\n",
    "model5.predict(X_test)\n",
    "print(\"5th degree\")\n",
    "print(\"Explained variance score: {}\".format( metrics.explained_variance_score(y_test, model5.predict(X_test)) ))\n",
    "print(\"Explained variance score: {}\".format( metrics.explained_variance_score(y_test, model5.predict(X_test)) ))\n",
    "print(\"Median absolute error: {}\".format( metrics.median_absolute_error(y_test, model5.predict(X_test)) ))\n",
    "print(\"Mean squared error: {}\".format( metrics.mean_squared_error(y_test, model5.predict(X_test)) ))\n",
    "print(\"Mean absolute errors: {}\".format(metrics.mean_absolute_error(y_test, model5.predict(X_test)) ))\n",
    "\n",
    "model25= make_pipeline(PolynomialFeatures(25), linear_model.LinearRegression())\n",
    "model25.fit(X_train, y_train)\n",
    "model25.predict(X_test)\n",
    "print(\"5th degree\")\n",
    "print(\"Explained variance score: {}\".format( metrics.explained_variance_score(y_test, model25.predict(X_test)) ))\n",
    "print(\"Explained variance score: {}\".format( metrics.explained_variance_score(y_test, model25.predict(X_test)) ))\n",
    "print(\"Median absolute error: {}\".format( metrics.median_absolute_error(y_test, model25.predict(X_test)) ))\n",
    "print(\"Mean squared error: {}\".format( metrics.mean_squared_error(y_test, model25.predict(X_test)) ))\n",
    "print(\"Mean absolute errors: {}\".format(metrics.mean_absolute_error(y_test, model25.predict(X_test)) ))"
   ]
  }
 ],
 "metadata": {
  "kernelspec": {
   "display_name": "Python 3",
   "language": "python",
   "name": "python3"
  },
  "language_info": {
   "codemirror_mode": {
    "name": "ipython",
    "version": 3
   },
   "file_extension": ".py",
   "mimetype": "text/x-python",
   "name": "python",
   "nbconvert_exporter": "python",
   "pygments_lexer": "ipython3",
   "version": "3.10.2"
  }
 },
 "nbformat": 4,
 "nbformat_minor": 2
}
