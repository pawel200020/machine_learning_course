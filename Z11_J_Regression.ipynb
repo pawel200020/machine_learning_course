{
 "cells": [
  {
   "cell_type": "code",
   "execution_count": 2,
   "metadata": {},
   "outputs": [
    {
     "name": "stdout",
     "output_type": "stream",
     "text": [
      "2.8.0\n",
      "2.8.0\n"
     ]
    }
   ],
   "source": [
    "import tensorflow as tf\n",
    "from tensorflow import keras\n",
    "print(tf.__version__)\n",
    "\n",
    "print(keras.__version__)"
   ]
  },
  {
   "cell_type": "code",
   "execution_count": 3,
   "metadata": {},
   "outputs": [],
   "source": [
    "import numpy as np\n",
    "import pandas as pd\n",
    "import matplotlib.pyplot as plt\n",
    "import os"
   ]
  },
  {
   "cell_type": "code",
   "execution_count": 4,
   "metadata": {},
   "outputs": [],
   "source": [
    "from sklearn.datasets import fetch_california_housing\n",
    "from sklearn.model_selection import train_test_split\n",
    "from sklearn.preprocessing import StandardScaler\n",
    "\n",
    "housing = fetch_california_housing()\n",
    "\n",
    "X_train_full, X_test, y_train_full, y_test = train_test_split(housing.data, housing.target, random_state=42)\n",
    "X_train, X_valid, y_train, y_valid = train_test_split(X_train_full, y_train_full, random_state=42)\n",
    "\n"
   ]
  },
  {
   "cell_type": "code",
   "execution_count": 5,
   "metadata": {},
   "outputs": [],
   "source": [
    "np.random.seed(42)\n",
    "tf.random.set_seed(42)"
   ]
  },
  {
   "cell_type": "code",
   "execution_count": 6,
   "metadata": {},
   "outputs": [
    {
     "name": "stdout",
     "output_type": "stream",
     "text": [
      "Epoch 1/20\n"
     ]
    },
    {
     "name": "stderr",
     "output_type": "stream",
     "text": [
      "C:\\Users\\p1\\AppData\\Roaming\\Python\\Python310\\site-packages\\keras\\optimizer_v2\\gradient_descent.py:102: UserWarning: The `lr` argument is deprecated, use `learning_rate` instead.\n",
      "  super(SGD, self).__init__(name, **kwargs)\n"
     ]
    },
    {
     "name": "stdout",
     "output_type": "stream",
     "text": [
      "363/363 [==============================] - 1s 1ms/step - loss: 22974151580975104.0000 - val_loss: 14617883443200.0000\n",
      "Epoch 2/20\n",
      "363/363 [==============================] - 0s 1ms/step - loss: 7723970199552.0000 - val_loss: 3417093963776.0000\n",
      "Epoch 3/20\n",
      "363/363 [==============================] - 0s 1ms/step - loss: 1805568049152.0000 - val_loss: 798785339392.0000\n",
      "Epoch 4/20\n",
      "363/363 [==============================] - 0s 951us/step - loss: 422071828480.0000 - val_loss: 186725318656.0000\n",
      "Epoch 5/20\n",
      "363/363 [==============================] - 0s 1ms/step - loss: 98664218624.0000 - val_loss: 43649114112.0000\n",
      "Epoch 6/20\n",
      "363/363 [==============================] - 0s 980us/step - loss: 23063846912.0000 - val_loss: 10203475968.0000\n",
      "Epoch 7/20\n",
      "363/363 [==============================] - 0s 1ms/step - loss: 5391437312.0000 - val_loss: 2385182720.0000\n",
      "Epoch 8/20\n",
      "363/363 [==============================] - 0s 1000us/step - loss: 1260309632.0000 - val_loss: 557565056.0000\n",
      "Epoch 9/20\n",
      "363/363 [==============================] - 0s 994us/step - loss: 294612000.0000 - val_loss: 130337808.0000\n",
      "Epoch 10/20\n",
      "363/363 [==============================] - 0s 997us/step - loss: 68868872.0000 - val_loss: 30468182.0000\n",
      "Epoch 11/20\n",
      "363/363 [==============================] - 0s 1ms/step - loss: 16098886.0000 - val_loss: 7122408.0000\n",
      "Epoch 12/20\n",
      "363/363 [==============================] - 0s 1ms/step - loss: 3763294.0000 - val_loss: 1665006.2500\n",
      "Epoch 13/20\n",
      "363/363 [==============================] - 0s 996us/step - loss: 879712.9375 - val_loss: 389246.1250\n",
      "Epoch 14/20\n",
      "363/363 [==============================] - 0s 987us/step - loss: 205644.4062 - val_loss: 91006.7344\n",
      "Epoch 15/20\n",
      "363/363 [==============================] - 0s 972us/step - loss: 48073.1602 - val_loss: 21282.1270\n",
      "Epoch 16/20\n",
      "363/363 [==============================] - 0s 994us/step - loss: 11238.7031 - val_loss: 4979.3115\n",
      "Epoch 17/20\n",
      "363/363 [==============================] - 0s 1ms/step - loss: 2628.1484 - val_loss: 1166.6659\n",
      "Epoch 18/20\n",
      "363/363 [==============================] - 0s 950us/step - loss: 615.3716 - val_loss: 274.4792\n",
      "Epoch 19/20\n",
      "363/363 [==============================] - 0s 982us/step - loss: 144.8725 - val_loss: 65.5832\n",
      "Epoch 20/20\n",
      "363/363 [==============================] - 0s 952us/step - loss: 34.9049 - val_loss: 16.5316\n",
      "162/162 [==============================] - 0s 793us/step - loss: 16.3210\n"
     ]
    }
   ],
   "source": [
    "model = keras.models.Sequential([\n",
    "    keras.layers.Dense(30, activation=\"relu\", input_shape=X_train.shape[1:]),\n",
    "    keras.layers.Dense(1)\n",
    "])\n",
    "model.compile(loss=\"mean_squared_error\", optimizer=keras.optimizers.SGD(lr=1e-3))\n",
    "history = model.fit(X_train, y_train, epochs=20, validation_data=(X_valid, y_valid))\n",
    "mse_test = model.evaluate(X_test, y_test)\n",
    "X_new = X_test[:3]\n",
    "y_pred = model.predict(X_new)"
   ]
  },
  {
   "cell_type": "code",
   "execution_count": 7,
   "metadata": {},
   "outputs": [
    {
     "data": {
      "image/png": "[encoded data removed]",
      "text/plain": [
       "<Figure size 432x288 with 1 Axes>"
      ]
     },
     "metadata": {
      "needs_background": "light"
     },
     "output_type": "display_data"
    }
   ],
   "source": [
    "plt.plot(pd.DataFrame(history.history))\n",
    "plt.grid(True)\n",
    "plt.show()"
   ]
  },
  {
   "cell_type": "markdown",
   "metadata": {},
   "source": [
    "# Zad\n",
    "\n",
    "Porównaj powyższy wynik z nauką na danych znormalizowanych."
   ]
  },
  {
   "cell_type": "code",
   "execution_count": 8,
   "metadata": {},
   "outputs": [
    {
     "name": "stdout",
     "output_type": "stream",
     "text": [
      "(11610, 8)\n"
     ]
    },
    {
     "data": {
      "text/plain": [
       "(5160, 8)"
      ]
     },
     "execution_count": 8,
     "metadata": {},
     "output_type": "execute_result"
    }
   ],
   "source": [
    "from sklearn.preprocessing import StandardScaler\n",
    "sc = StandardScaler()\n",
    "X_train2 = sc.fit_transform(X_train)\n",
    "X_test2 = sc.transform(X_test)\n",
    "\n",
    "print(X_train2.shape)\n",
    "X_test2.shape"
   ]
  },
  {
   "cell_type": "code",
   "execution_count": 9,
   "metadata": {},
   "outputs": [
    {
     "name": "stdout",
     "output_type": "stream",
     "text": [
      "Epoch 1/20\n",
      "  1/363 [..............................] - ETA: 1:03 - loss: 5.2366"
     ]
    },
    {
     "name": "stderr",
     "output_type": "stream",
     "text": [
      "C:\\Users\\p1\\AppData\\Roaming\\Python\\Python310\\site-packages\\keras\\optimizer_v2\\gradient_descent.py:102: UserWarning: The `lr` argument is deprecated, use `learning_rate` instead.\n",
      "  super(SGD, self).__init__(name, **kwargs)\n"
     ]
    },
    {
     "name": "stdout",
     "output_type": "stream",
     "text": [
      "363/363 [==============================] - 1s 1ms/step - loss: 1.9197 - val_loss: 166076.8906\n",
      "Epoch 2/20\n",
      "363/363 [==============================] - 0s 943us/step - loss: 0.8247 - val_loss: 165876.8750\n",
      "Epoch 3/20\n",
      "363/363 [==============================] - 0s 941us/step - loss: 0.6937 - val_loss: 152219.3906\n",
      "Epoch 4/20\n",
      "363/363 [==============================] - 0s 1ms/step - loss: 0.6350 - val_loss: 165011.0000\n",
      "Epoch 5/20\n",
      "363/363 [==============================] - 0s 968us/step - loss: 0.5964 - val_loss: 164365.2344\n",
      "Epoch 6/20\n",
      "363/363 [==============================] - 0s 955us/step - loss: 0.5664 - val_loss: 165905.1094\n",
      "Epoch 7/20\n",
      "363/363 [==============================] - 0s 923us/step - loss: 0.5420 - val_loss: 156927.8750\n",
      "Epoch 8/20\n",
      "363/363 [==============================] - 0s 959us/step - loss: 0.5221 - val_loss: 157237.7031\n",
      "Epoch 9/20\n",
      "363/363 [==============================] - 0s 979us/step - loss: 0.5047 - val_loss: 157420.1250\n",
      "Epoch 10/20\n",
      "363/363 [==============================] - 0s 995us/step - loss: 0.4902 - val_loss: 150647.4219\n",
      "Epoch 11/20\n",
      "363/363 [==============================] - 0s 980us/step - loss: 0.4784 - val_loss: 158677.8281\n",
      "Epoch 12/20\n",
      "363/363 [==============================] - 0s 1ms/step - loss: 0.4680 - val_loss: 143120.2344\n",
      "Epoch 13/20\n",
      "363/363 [==============================] - 0s 983us/step - loss: 0.4593 - val_loss: 135601.2812\n",
      "Epoch 14/20\n",
      "363/363 [==============================] - 0s 1ms/step - loss: 0.4518 - val_loss: 131193.8594\n",
      "Epoch 15/20\n",
      "363/363 [==============================] - 0s 999us/step - loss: 0.4453 - val_loss: 127977.9766\n",
      "Epoch 16/20\n",
      "363/363 [==============================] - 0s 1ms/step - loss: 0.4397 - val_loss: 121405.7188\n",
      "Epoch 17/20\n",
      "363/363 [==============================] - 0s 986us/step - loss: 0.4352 - val_loss: 112500.8672\n",
      "Epoch 18/20\n",
      "363/363 [==============================] - 0s 993us/step - loss: 0.4313 - val_loss: 109565.9844\n",
      "Epoch 19/20\n",
      "363/363 [==============================] - 0s 1ms/step - loss: 0.4271 - val_loss: 103108.6875\n",
      "Epoch 20/20\n",
      "363/363 [==============================] - 0s 997us/step - loss: 0.4246 - val_loss: 100221.6172\n",
      "162/162 [==============================] - 0s 691us/step - loss: 0.4232\n"
     ]
    }
   ],
   "source": [
    "model = keras.models.Sequential([\n",
    "    keras.layers.Dense(30, activation=\"relu\", input_shape=X_train2.shape[1:]),\n",
    "    keras.layers.Dense(1)\n",
    "])\n",
    "model.compile(loss=\"mean_squared_error\", optimizer=keras.optimizers.SGD(lr=1e-3))\n",
    "history = model.fit(X_train2, y_train, epochs=20, validation_data=(X_valid, y_valid))\n",
    "mse_test = model.evaluate(X_test2, y_test)\n",
    "X_new = X_test2[:3]\n",
    "y_pred = model.predict(X_new)"
   ]
  },
  {
   "cell_type": "code",
   "execution_count": 10,
   "metadata": {},
   "outputs": [
    {
     "data": {
      "image/png": "[encoded data removed]",
      "text/plain": [
       "<Figure size 432x288 with 1 Axes>"
      ]
     },
     "metadata": {
      "needs_background": "light"
     },
     "output_type": "display_data"
    }
   ],
   "source": [
    "plt.plot(pd.DataFrame(history.history))\n",
    "plt.grid(True)\n",
    "plt.show()"
   ]
  },
  {
   "cell_type": "code",
   "execution_count": 25,
   "metadata": {},
   "outputs": [
    {
     "data": {
      "image/png": "[encoded data removed]",
      "text/plain": [
       "<Figure size 432x288 with 1 Axes>"
      ]
     },
     "metadata": {
      "needs_background": "light"
     },
     "output_type": "display_data"
    }
   ],
   "source": []
  },
  {
   "cell_type": "markdown",
   "metadata": {},
   "source": [
    "# Dane zawsze muszą być przeskalowane"
   ]
  },
  {
   "cell_type": "code",
   "execution_count": null,
   "metadata": {},
   "outputs": [],
   "source": []
  }
 ],
 "metadata": {
  "interpreter": {
   "hash": "26de051ba29f2982a8de78e945f0abaf191376122a1563185a90213a26c5da77"
  },
  "kernelspec": {
   "display_name": "Python 3.10.2 64-bit",
   "language": "python",
   "name": "python3"
  },
  "language_info": {
   "codemirror_mode": {
    "name": "ipython",
    "version": 3
   },
   "file_extension": ".py",
   "mimetype": "text/x-python",
   "name": "python",
   "nbconvert_exporter": "python",
   "pygments_lexer": "ipython3",
   "version": "3.10.2"
  }
 },
 "nbformat": 4,
 "nbformat_minor": 4
}
