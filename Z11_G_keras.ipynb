{
 "cells": [
  {
   "cell_type": "code",
   "execution_count": 1,
   "metadata": {},
   "outputs": [
    {
     "name": "stdout",
     "output_type": "stream",
     "text": [
      "2.9.0\n",
      "2.9.0\n"
     ]
    }
   ],
   "source": [
    "import tensorflow as tf\n",
    "from tensorflow import keras\n",
    "print(tf.__version__)\n",
    "\n",
    "print(keras.__version__)"
   ]
  },
  {
   "cell_type": "code",
   "execution_count": 2,
   "metadata": {},
   "outputs": [],
   "source": [
    "import numpy as np\n",
    "import pandas as pd\n",
    "import matplotlib.pyplot as plt\n",
    "import os"
   ]
  },
  {
   "cell_type": "code",
   "execution_count": 3,
   "metadata": {},
   "outputs": [
    {
     "name": "stderr",
     "output_type": "stream",
     "text": [
      "C:\\Users\\Paweł\\AppData\\Local\\Temp\\ipykernel_11820\\357239312.py:6: ParserWarning: Falling back to the 'python' engine because the 'c' engine does not support regex separators (separators > 1 char and different from '\\s+' are interpreted as regex); you can avoid this warning by specifying engine='python'.\n",
      "  train_set = pd.read_csv('Dane/adult/adult.data', sep=\", \",header = None)\n",
      "C:\\Users\\Paweł\\AppData\\Local\\Temp\\ipykernel_11820\\357239312.py:7: ParserWarning: Falling back to the 'python' engine because the 'c' engine does not support regex separators (separators > 1 char and different from '\\s+' are interpreted as regex); you can avoid this warning by specifying engine='python'.\n",
      "  test_set = pd.read_csv('Dane/adult/adult.test', sep=\", \",skiprows = 1, header = None) # Make sure to skip a row for the test set\n"
     ]
    },
    {
     "data": {
      "text/html": [
       "<div>\n",
       "<style scoped>\n",
       "    .dataframe tbody tr th:only-of-type {\n",
       "        vertical-align: middle;\n",
       "    }\n",
       "\n",
       "    .dataframe tbody tr th {\n",
       "        vertical-align: top;\n",
       "    }\n",
       "\n",
       "    .dataframe thead th {\n",
       "        text-align: right;\n",
       "    }\n",
       "</style>\n",
       "<table border=\"1\" class=\"dataframe\">\n",
       "  <thead>\n",
       "    <tr style=\"text-align: right;\">\n",
       "      <th></th>\n",
       "      <th>age</th>\n",
       "      <th>workclass</th>\n",
       "      <th>fnlwgt</th>\n",
       "      <th>education</th>\n",
       "      <th>education_num</th>\n",
       "      <th>marital_status</th>\n",
       "      <th>occupation</th>\n",
       "      <th>relationship</th>\n",
       "      <th>race</th>\n",
       "      <th>sex</th>\n",
       "      <th>capital_gain</th>\n",
       "      <th>capital_loss</th>\n",
       "      <th>hours_per_week</th>\n",
       "      <th>native_country</th>\n",
       "      <th>wage_class</th>\n",
       "    </tr>\n",
       "  </thead>\n",
       "  <tbody>\n",
       "    <tr>\n",
       "      <th>0</th>\n",
       "      <td>39</td>\n",
       "      <td>State-gov</td>\n",
       "      <td>77516</td>\n",
       "      <td>Bachelors</td>\n",
       "      <td>13</td>\n",
       "      <td>Never-married</td>\n",
       "      <td>Adm-clerical</td>\n",
       "      <td>Not-in-family</td>\n",
       "      <td>White</td>\n",
       "      <td>Male</td>\n",
       "      <td>2174</td>\n",
       "      <td>0</td>\n",
       "      <td>40</td>\n",
       "      <td>United-States</td>\n",
       "      <td>&lt;=50K</td>\n",
       "    </tr>\n",
       "    <tr>\n",
       "      <th>1</th>\n",
       "      <td>50</td>\n",
       "      <td>Self-emp-not-inc</td>\n",
       "      <td>83311</td>\n",
       "      <td>Bachelors</td>\n",
       "      <td>13</td>\n",
       "      <td>Married-civ-spouse</td>\n",
       "      <td>Exec-managerial</td>\n",
       "      <td>Husband</td>\n",
       "      <td>White</td>\n",
       "      <td>Male</td>\n",
       "      <td>0</td>\n",
       "      <td>0</td>\n",
       "      <td>13</td>\n",
       "      <td>United-States</td>\n",
       "      <td>&lt;=50K</td>\n",
       "    </tr>\n",
       "    <tr>\n",
       "      <th>2</th>\n",
       "      <td>38</td>\n",
       "      <td>Private</td>\n",
       "      <td>215646</td>\n",
       "      <td>HS-grad</td>\n",
       "      <td>9</td>\n",
       "      <td>Divorced</td>\n",
       "      <td>Handlers-cleaners</td>\n",
       "      <td>Not-in-family</td>\n",
       "      <td>White</td>\n",
       "      <td>Male</td>\n",
       "      <td>0</td>\n",
       "      <td>0</td>\n",
       "      <td>40</td>\n",
       "      <td>United-States</td>\n",
       "      <td>&lt;=50K</td>\n",
       "    </tr>\n",
       "    <tr>\n",
       "      <th>3</th>\n",
       "      <td>53</td>\n",
       "      <td>Private</td>\n",
       "      <td>234721</td>\n",
       "      <td>11th</td>\n",
       "      <td>7</td>\n",
       "      <td>Married-civ-spouse</td>\n",
       "      <td>Handlers-cleaners</td>\n",
       "      <td>Husband</td>\n",
       "      <td>Black</td>\n",
       "      <td>Male</td>\n",
       "      <td>0</td>\n",
       "      <td>0</td>\n",
       "      <td>40</td>\n",
       "      <td>United-States</td>\n",
       "      <td>&lt;=50K</td>\n",
       "    </tr>\n",
       "    <tr>\n",
       "      <th>4</th>\n",
       "      <td>28</td>\n",
       "      <td>Private</td>\n",
       "      <td>338409</td>\n",
       "      <td>Bachelors</td>\n",
       "      <td>13</td>\n",
       "      <td>Married-civ-spouse</td>\n",
       "      <td>Prof-specialty</td>\n",
       "      <td>Wife</td>\n",
       "      <td>Black</td>\n",
       "      <td>Female</td>\n",
       "      <td>0</td>\n",
       "      <td>0</td>\n",
       "      <td>40</td>\n",
       "      <td>Cuba</td>\n",
       "      <td>&lt;=50K</td>\n",
       "    </tr>\n",
       "  </tbody>\n",
       "</table>\n",
       "</div>"
      ],
      "text/plain": [
       "   age         workclass  fnlwgt  education  education_num  \\\n",
       "0   39         State-gov   77516  Bachelors             13   \n",
       "1   50  Self-emp-not-inc   83311  Bachelors             13   \n",
       "2   38           Private  215646    HS-grad              9   \n",
       "3   53           Private  234721       11th              7   \n",
       "4   28           Private  338409  Bachelors             13   \n",
       "\n",
       "       marital_status         occupation   relationship   race     sex  \\\n",
       "0       Never-married       Adm-clerical  Not-in-family  White    Male   \n",
       "1  Married-civ-spouse    Exec-managerial        Husband  White    Male   \n",
       "2            Divorced  Handlers-cleaners  Not-in-family  White    Male   \n",
       "3  Married-civ-spouse  Handlers-cleaners        Husband  Black    Male   \n",
       "4  Married-civ-spouse     Prof-specialty           Wife  Black  Female   \n",
       "\n",
       "   capital_gain  capital_loss  hours_per_week native_country wage_class  \n",
       "0          2174             0              40  United-States      <=50K  \n",
       "1             0             0              13  United-States      <=50K  \n",
       "2             0             0              40  United-States      <=50K  \n",
       "3             0             0              40  United-States      <=50K  \n",
       "4             0             0              40           Cuba      <=50K  "
      ]
     },
     "execution_count": 3,
     "metadata": {},
     "output_type": "execute_result"
    }
   ],
   "source": [
    "# Wczytaj dane treningowe i testowe\n",
    "import numpy as np\n",
    "import matplotlib.pyplot as plt\n",
    "import pandas as pd\n",
    "\n",
    "train_set = pd.read_csv('Dane/adult/adult.data', sep=\", \",header = None)\n",
    "test_set = pd.read_csv('Dane/adult/adult.test', sep=\", \",skiprows = 1, header = None) # Make sure to skip a row for the test set\n",
    "\n",
    "col_labels = ['age', 'workclass', 'fnlwgt', 'education', 'education_num', 'marital_status', 'occupation', \n",
    "              'relationship', 'race', 'sex', 'capital_gain', 'capital_loss', 'hours_per_week', 'native_country',\n",
    "             'wage_class']\n",
    "train_set.columns = col_labels\n",
    "test_set.columns = col_labels\n",
    "\n",
    "train = train_set.replace('?', np.nan).dropna()\n",
    "test = test_set.replace('?', np.nan).dropna()\n",
    "\n",
    "train_set.head()\n"
   ]
  },
  {
   "cell_type": "markdown",
   "metadata": {},
   "source": [
    "# Zad.\n",
    "Zróbmy szybki preprocesing"
   ]
  },
  {
   "cell_type": "code",
   "execution_count": 4,
   "metadata": {},
   "outputs": [],
   "source": [
    "dataset = pd.concat([train,test])\n",
    "\n",
    "dataset['wage_class'] = dataset.wage_class.replace({'<=50K.': 0,'<=50K':0, '>50K.':1, '>50K':1})\n",
    "\n",
    "dataset.drop([\"fnlwgt\"],axis=1,inplace=True)\n",
    "\n",
    "dataset.drop([\"education\"],axis=1,inplace=True)\n",
    "\n",
    "x = dataset.groupby('native_country')[\"wage_class\"].mean()\n",
    "\n",
    "d = dict(pd.cut(x[x.index!=\" United-States\"],5,labels=range(5)))\n",
    "\n",
    "dataset['native_country'] = dataset['native_country'].replace(d)\n",
    "\n",
    "dataset = pd.get_dummies(dataset,drop_first=True)\n",
    "\n",
    "train = dataset.iloc[:train.shape[0]]\n",
    "test = dataset.iloc[train.shape[0]:]\n",
    "\n",
    "X_train = train.drop(\"wage_class\",axis=1)\n",
    "y_train = train.wage_class\n",
    "\n",
    "X_test = test.drop(\"wage_class\",axis=1)\n",
    "y_test = test.wage_class\n"
   ]
  },
  {
   "cell_type": "code",
   "execution_count": 5,
   "metadata": {},
   "outputs": [
    {
     "name": "stdout",
     "output_type": "stream",
     "text": [
      "Model: \"sequential\"\n",
      "_________________________________________________________________\n",
      " Layer (type)                Output Shape              Param #   \n",
      "=================================================================\n",
      " dense (Dense)               (None, 100)               4200      \n",
      "                                                                 \n",
      " dense_1 (Dense)             (None, 50)                5050      \n",
      "                                                                 \n",
      " dense_2 (Dense)             (None, 10)                510       \n",
      "                                                                 \n",
      " dense_3 (Dense)             (None, 1)                 11        \n",
      "                                                                 \n",
      "=================================================================\n",
      "Total params: 9,771\n",
      "Trainable params: 9,771\n",
      "Non-trainable params: 0\n",
      "_________________________________________________________________\n"
     ]
    }
   ],
   "source": [
    "from keras.models import Sequential\n",
    "from keras.layers import Dense\n",
    "\n",
    "from keras.callbacks import History\n",
    "\n",
    "history = History()\n",
    "model = Sequential()\n",
    "model.add(Dense(100,activation=\"sigmoid\", input_shape=(X_train.shape[1],)))\n",
    "model.add(Dense(50,activation=\"sigmoid\"))\n",
    "model.add(Dense(10,activation=\"sigmoid\"))\n",
    "model.add(Dense(1,activation=\"sigmoid\"))\n",
    "model.summary()"
   ]
  },
  {
   "cell_type": "code",
   "execution_count": 6,
   "metadata": {},
   "outputs": [],
   "source": [
    "model.compile(loss=\"binary_crossentropy\", optimizer=\"Adam\", metrics=[\"accuracy\"])"
   ]
  },
  {
   "cell_type": "code",
   "execution_count": 7,
   "metadata": {},
   "outputs": [
    {
     "name": "stdout",
     "output_type": "stream",
     "text": [
      "Epoch 1/100\n",
      "943/943 [==============================] - 4s 3ms/step - loss: 0.4246 - accuracy: 0.7894 - val_loss: 0.3788 - val_accuracy: 0.7932\n",
      "Epoch 2/100\n",
      "943/943 [==============================] - 3s 3ms/step - loss: 0.3771 - accuracy: 0.8121 - val_loss: 0.3696 - val_accuracy: 0.8191\n",
      "Epoch 3/100\n",
      "943/943 [==============================] - 3s 3ms/step - loss: 0.3743 - accuracy: 0.8108 - val_loss: 0.3697 - val_accuracy: 0.8149\n",
      "Epoch 4/100\n",
      "943/943 [==============================] - 3s 3ms/step - loss: 0.3716 - accuracy: 0.8131 - val_loss: 0.3876 - val_accuracy: 0.7924\n",
      "Epoch 5/100\n",
      "943/943 [==============================] - 3s 3ms/step - loss: 0.3723 - accuracy: 0.8118 - val_loss: 0.3682 - val_accuracy: 0.8146\n",
      "Epoch 6/100\n",
      "943/943 [==============================] - 2s 2ms/step - loss: 0.3711 - accuracy: 0.8126 - val_loss: 0.3696 - val_accuracy: 0.8110\n",
      "Epoch 7/100\n",
      "943/943 [==============================] - 2s 3ms/step - loss: 0.3738 - accuracy: 0.8135 - val_loss: 0.3671 - val_accuracy: 0.8128\n",
      "Epoch 8/100\n",
      "943/943 [==============================] - 2s 2ms/step - loss: 0.3724 - accuracy: 0.8124 - val_loss: 0.3720 - val_accuracy: 0.8165\n",
      "Epoch 9/100\n",
      "943/943 [==============================] - 2s 2ms/step - loss: 0.3692 - accuracy: 0.8135 - val_loss: 0.3678 - val_accuracy: 0.8165\n",
      "Epoch 10/100\n",
      "943/943 [==============================] - 2s 3ms/step - loss: 0.3710 - accuracy: 0.8117 - val_loss: 0.3704 - val_accuracy: 0.8108\n",
      "Epoch 11/100\n",
      "943/943 [==============================] - 3s 3ms/step - loss: 0.3698 - accuracy: 0.8123 - val_loss: 0.3844 - val_accuracy: 0.8112\n",
      "Epoch 12/100\n",
      "943/943 [==============================] - 3s 4ms/step - loss: 0.3689 - accuracy: 0.8165 - val_loss: 0.3849 - val_accuracy: 0.8089\n",
      "Epoch 13/100\n",
      "943/943 [==============================] - 3s 3ms/step - loss: 0.3709 - accuracy: 0.8118 - val_loss: 0.3753 - val_accuracy: 0.8147\n",
      "Epoch 14/100\n",
      "943/943 [==============================] - 3s 3ms/step - loss: 0.3688 - accuracy: 0.8135 - val_loss: 0.3642 - val_accuracy: 0.8165\n",
      "Epoch 15/100\n",
      "943/943 [==============================] - 3s 3ms/step - loss: 0.3676 - accuracy: 0.8154 - val_loss: 0.3696 - val_accuracy: 0.8118\n",
      "Epoch 16/100\n",
      "943/943 [==============================] - 2s 3ms/step - loss: 0.3663 - accuracy: 0.8141 - val_loss: 0.3655 - val_accuracy: 0.8161\n",
      "Epoch 17/100\n",
      "943/943 [==============================] - 2s 3ms/step - loss: 0.3647 - accuracy: 0.8156 - val_loss: 0.3796 - val_accuracy: 0.8090\n",
      "Epoch 18/100\n",
      "943/943 [==============================] - 3s 3ms/step - loss: 0.3672 - accuracy: 0.8124 - val_loss: 0.3654 - val_accuracy: 0.8179\n",
      "Epoch 19/100\n",
      "943/943 [==============================] - 3s 3ms/step - loss: 0.3654 - accuracy: 0.8156 - val_loss: 0.3660 - val_accuracy: 0.8127\n",
      "Epoch 20/100\n",
      "943/943 [==============================] - 3s 3ms/step - loss: 0.3653 - accuracy: 0.8169 - val_loss: 0.3718 - val_accuracy: 0.8100\n",
      "Epoch 21/100\n",
      "943/943 [==============================] - 2s 3ms/step - loss: 0.3640 - accuracy: 0.8164 - val_loss: 0.3654 - val_accuracy: 0.8167\n",
      "Epoch 22/100\n",
      "943/943 [==============================] - 2s 3ms/step - loss: 0.3641 - accuracy: 0.8145 - val_loss: 0.3636 - val_accuracy: 0.8143\n",
      "Epoch 23/100\n",
      "943/943 [==============================] - 2s 3ms/step - loss: 0.3631 - accuracy: 0.8182 - val_loss: 0.3640 - val_accuracy: 0.8163\n",
      "Epoch 24/100\n",
      "943/943 [==============================] - 2s 2ms/step - loss: 0.3641 - accuracy: 0.8154 - val_loss: 0.3679 - val_accuracy: 0.8137\n",
      "Epoch 25/100\n",
      "943/943 [==============================] - 2s 2ms/step - loss: 0.3639 - accuracy: 0.8159 - val_loss: 0.3655 - val_accuracy: 0.8117\n",
      "Epoch 26/100\n",
      "943/943 [==============================] - 2s 2ms/step - loss: 0.3648 - accuracy: 0.8156 - val_loss: 0.3635 - val_accuracy: 0.8146\n",
      "Epoch 27/100\n",
      "943/943 [==============================] - 3s 3ms/step - loss: 0.3635 - accuracy: 0.8181 - val_loss: 0.3646 - val_accuracy: 0.8183\n",
      "Epoch 28/100\n",
      "943/943 [==============================] - 3s 3ms/step - loss: 0.3636 - accuracy: 0.8143 - val_loss: 0.3646 - val_accuracy: 0.8181\n",
      "Epoch 29/100\n",
      "943/943 [==============================] - 3s 3ms/step - loss: 0.3639 - accuracy: 0.8173 - val_loss: 0.3726 - val_accuracy: 0.8084\n",
      "Epoch 30/100\n",
      "943/943 [==============================] - 2s 3ms/step - loss: 0.3639 - accuracy: 0.8172 - val_loss: 0.3747 - val_accuracy: 0.8079\n",
      "Epoch 31/100\n",
      "943/943 [==============================] - 2s 3ms/step - loss: 0.3639 - accuracy: 0.8167 - val_loss: 0.3723 - val_accuracy: 0.8144\n",
      "Epoch 32/100\n",
      "943/943 [==============================] - 2s 3ms/step - loss: 0.3652 - accuracy: 0.8149 - val_loss: 0.3654 - val_accuracy: 0.8173\n",
      "Epoch 33/100\n",
      "943/943 [==============================] - 2s 3ms/step - loss: 0.3637 - accuracy: 0.8164 - val_loss: 0.3681 - val_accuracy: 0.8147\n",
      "Epoch 34/100\n",
      "943/943 [==============================] - 2s 3ms/step - loss: 0.3649 - accuracy: 0.8162 - val_loss: 0.3652 - val_accuracy: 0.8133\n",
      "Epoch 35/100\n",
      "943/943 [==============================] - 2s 3ms/step - loss: 0.3628 - accuracy: 0.8178 - val_loss: 0.3759 - val_accuracy: 0.8073\n",
      "Epoch 36/100\n",
      "943/943 [==============================] - 3s 3ms/step - loss: 0.3637 - accuracy: 0.8160 - val_loss: 0.3631 - val_accuracy: 0.8170\n",
      "Epoch 37/100\n",
      "943/943 [==============================] - 3s 3ms/step - loss: 0.3612 - accuracy: 0.8188 - val_loss: 0.3676 - val_accuracy: 0.8162\n",
      "Epoch 38/100\n",
      "943/943 [==============================] - 3s 3ms/step - loss: 0.3640 - accuracy: 0.8170 - val_loss: 0.3662 - val_accuracy: 0.8164\n",
      "Epoch 39/100\n",
      "943/943 [==============================] - 2s 3ms/step - loss: 0.3635 - accuracy: 0.8152 - val_loss: 0.3803 - val_accuracy: 0.7891\n",
      "Epoch 40/100\n",
      "943/943 [==============================] - 2s 3ms/step - loss: 0.3623 - accuracy: 0.8177 - val_loss: 0.3655 - val_accuracy: 0.8123\n",
      "Epoch 41/100\n",
      "943/943 [==============================] - 3s 3ms/step - loss: 0.3622 - accuracy: 0.8164 - val_loss: 0.3645 - val_accuracy: 0.8161\n",
      "Epoch 42/100\n",
      "943/943 [==============================] - 3s 3ms/step - loss: 0.3624 - accuracy: 0.8176 - val_loss: 0.3642 - val_accuracy: 0.8177\n",
      "Epoch 43/100\n",
      "943/943 [==============================] - 3s 3ms/step - loss: 0.3616 - accuracy: 0.8161 - val_loss: 0.3649 - val_accuracy: 0.8183\n",
      "Epoch 44/100\n",
      "943/943 [==============================] - 3s 3ms/step - loss: 0.3614 - accuracy: 0.8176 - val_loss: 0.3733 - val_accuracy: 0.8078\n",
      "Epoch 45/100\n",
      "943/943 [==============================] - 3s 3ms/step - loss: 0.3622 - accuracy: 0.8161 - val_loss: 0.3694 - val_accuracy: 0.8111\n",
      "Epoch 46/100\n",
      "943/943 [==============================] - 3s 3ms/step - loss: 0.3618 - accuracy: 0.8180 - val_loss: 0.3668 - val_accuracy: 0.8132\n",
      "Epoch 47/100\n",
      "943/943 [==============================] - 2s 2ms/step - loss: 0.3619 - accuracy: 0.8153 - val_loss: 0.3655 - val_accuracy: 0.8175\n",
      "Epoch 48/100\n",
      "943/943 [==============================] - 2s 2ms/step - loss: 0.3611 - accuracy: 0.8160 - val_loss: 0.3799 - val_accuracy: 0.8033\n",
      "Epoch 49/100\n",
      "943/943 [==============================] - 2s 2ms/step - loss: 0.3612 - accuracy: 0.8179 - val_loss: 0.3685 - val_accuracy: 0.8130\n",
      "Epoch 50/100\n",
      "943/943 [==============================] - 2s 2ms/step - loss: 0.3613 - accuracy: 0.8174 - val_loss: 0.3735 - val_accuracy: 0.8131\n",
      "Epoch 51/100\n",
      "943/943 [==============================] - 2s 2ms/step - loss: 0.3607 - accuracy: 0.8174 - val_loss: 0.3656 - val_accuracy: 0.8152\n",
      "Epoch 52/100\n",
      "943/943 [==============================] - 2s 2ms/step - loss: 0.3624 - accuracy: 0.8154 - val_loss: 0.3630 - val_accuracy: 0.8185\n",
      "Epoch 53/100\n",
      "943/943 [==============================] - 2s 2ms/step - loss: 0.3619 - accuracy: 0.8168 - val_loss: 0.3637 - val_accuracy: 0.8170\n",
      "Epoch 54/100\n",
      "943/943 [==============================] - 2s 2ms/step - loss: 0.3606 - accuracy: 0.8173 - val_loss: 0.3667 - val_accuracy: 0.8135\n",
      "Epoch 55/100\n",
      "943/943 [==============================] - 2s 2ms/step - loss: 0.3608 - accuracy: 0.8184 - val_loss: 0.3629 - val_accuracy: 0.8181\n",
      "Epoch 56/100\n",
      "943/943 [==============================] - 2s 2ms/step - loss: 0.3601 - accuracy: 0.8182 - val_loss: 0.3670 - val_accuracy: 0.8178\n",
      "Epoch 57/100\n",
      "943/943 [==============================] - 3s 3ms/step - loss: 0.3599 - accuracy: 0.8170 - val_loss: 0.3719 - val_accuracy: 0.8105\n",
      "Epoch 58/100\n",
      "943/943 [==============================] - 3s 3ms/step - loss: 0.3597 - accuracy: 0.8178 - val_loss: 0.3665 - val_accuracy: 0.8142\n",
      "Epoch 59/100\n",
      "943/943 [==============================] - 2s 3ms/step - loss: 0.3601 - accuracy: 0.8178 - val_loss: 0.3746 - val_accuracy: 0.8139\n",
      "Epoch 60/100\n",
      "943/943 [==============================] - 3s 3ms/step - loss: 0.3595 - accuracy: 0.8187 - val_loss: 0.3636 - val_accuracy: 0.8172\n",
      "Epoch 61/100\n",
      "943/943 [==============================] - 3s 3ms/step - loss: 0.3596 - accuracy: 0.8175 - val_loss: 0.3632 - val_accuracy: 0.8172\n",
      "Epoch 62/100\n",
      "943/943 [==============================] - 2s 3ms/step - loss: 0.3596 - accuracy: 0.8183 - val_loss: 0.3649 - val_accuracy: 0.8132\n",
      "Epoch 63/100\n",
      "943/943 [==============================] - 3s 3ms/step - loss: 0.3599 - accuracy: 0.8176 - val_loss: 0.3637 - val_accuracy: 0.8184\n",
      "Epoch 64/100\n",
      "943/943 [==============================] - 3s 3ms/step - loss: 0.3597 - accuracy: 0.8173 - val_loss: 0.3677 - val_accuracy: 0.8173\n",
      "Epoch 65/100\n",
      "943/943 [==============================] - 3s 3ms/step - loss: 0.3588 - accuracy: 0.8187 - val_loss: 0.3643 - val_accuracy: 0.8173\n",
      "Epoch 66/100\n",
      "943/943 [==============================] - 2s 3ms/step - loss: 0.3607 - accuracy: 0.8169 - val_loss: 0.3668 - val_accuracy: 0.8165\n",
      "Epoch 67/100\n",
      "943/943 [==============================] - 2s 2ms/step - loss: 0.3586 - accuracy: 0.8179 - val_loss: 0.3651 - val_accuracy: 0.8148\n",
      "Epoch 68/100\n",
      "943/943 [==============================] - 3s 3ms/step - loss: 0.3589 - accuracy: 0.8172 - val_loss: 0.3646 - val_accuracy: 0.8150\n",
      "Epoch 69/100\n",
      "943/943 [==============================] - 2s 2ms/step - loss: 0.3584 - accuracy: 0.8181 - val_loss: 0.3628 - val_accuracy: 0.8181\n",
      "Epoch 70/100\n",
      "943/943 [==============================] - 2s 2ms/step - loss: 0.3587 - accuracy: 0.8192 - val_loss: 0.3762 - val_accuracy: 0.8129\n",
      "Epoch 71/100\n",
      "943/943 [==============================] - 3s 3ms/step - loss: 0.3586 - accuracy: 0.8176 - val_loss: 0.3716 - val_accuracy: 0.8092\n",
      "Epoch 72/100\n",
      "943/943 [==============================] - 2s 3ms/step - loss: 0.3585 - accuracy: 0.8179 - val_loss: 0.3671 - val_accuracy: 0.8102\n",
      "Epoch 73/100\n",
      "943/943 [==============================] - 2s 2ms/step - loss: 0.3582 - accuracy: 0.8190 - val_loss: 0.3636 - val_accuracy: 0.8159\n",
      "Epoch 74/100\n",
      "943/943 [==============================] - 2s 2ms/step - loss: 0.3580 - accuracy: 0.8188 - val_loss: 0.3700 - val_accuracy: 0.8153\n",
      "Epoch 75/100\n",
      "943/943 [==============================] - 2s 2ms/step - loss: 0.3592 - accuracy: 0.8160 - val_loss: 0.3660 - val_accuracy: 0.8133\n",
      "Epoch 76/100\n",
      "943/943 [==============================] - 2s 3ms/step - loss: 0.3582 - accuracy: 0.8207 - val_loss: 0.3648 - val_accuracy: 0.8166\n",
      "Epoch 77/100\n",
      "943/943 [==============================] - 3s 3ms/step - loss: 0.3572 - accuracy: 0.8175 - val_loss: 0.3629 - val_accuracy: 0.8165\n",
      "Epoch 78/100\n",
      "943/943 [==============================] - 3s 3ms/step - loss: 0.3582 - accuracy: 0.8160 - val_loss: 0.3635 - val_accuracy: 0.8151\n",
      "Epoch 79/100\n",
      "943/943 [==============================] - 3s 3ms/step - loss: 0.3579 - accuracy: 0.8178 - val_loss: 0.3647 - val_accuracy: 0.8145\n",
      "Epoch 80/100\n",
      "943/943 [==============================] - 2s 3ms/step - loss: 0.3571 - accuracy: 0.8187 - val_loss: 0.3635 - val_accuracy: 0.8147\n",
      "Epoch 81/100\n",
      "943/943 [==============================] - 2s 2ms/step - loss: 0.3558 - accuracy: 0.8182 - val_loss: 0.3629 - val_accuracy: 0.8158\n",
      "Epoch 82/100\n",
      "943/943 [==============================] - 2s 3ms/step - loss: 0.3568 - accuracy: 0.8167 - val_loss: 0.3715 - val_accuracy: 0.8105\n",
      "Epoch 83/100\n",
      "943/943 [==============================] - 2s 3ms/step - loss: 0.3620 - accuracy: 0.8139 - val_loss: 0.3697 - val_accuracy: 0.8173\n",
      "Epoch 84/100\n",
      "943/943 [==============================] - 3s 3ms/step - loss: 0.3600 - accuracy: 0.8190 - val_loss: 0.3668 - val_accuracy: 0.8181\n",
      "Epoch 85/100\n",
      "943/943 [==============================] - 2s 2ms/step - loss: 0.3575 - accuracy: 0.8188 - val_loss: 0.3632 - val_accuracy: 0.8149\n",
      "Epoch 86/100\n",
      "943/943 [==============================] - 2s 3ms/step - loss: 0.3571 - accuracy: 0.8188 - val_loss: 0.3658 - val_accuracy: 0.8146\n",
      "Epoch 87/100\n",
      "943/943 [==============================] - 2s 3ms/step - loss: 0.3589 - accuracy: 0.8184 - val_loss: 0.3635 - val_accuracy: 0.8177\n",
      "Epoch 88/100\n",
      "943/943 [==============================] - 2s 2ms/step - loss: 0.3578 - accuracy: 0.8170 - val_loss: 0.3744 - val_accuracy: 0.8082\n",
      "Epoch 89/100\n",
      "943/943 [==============================] - 2s 2ms/step - loss: 0.3570 - accuracy: 0.8223 - val_loss: 0.3683 - val_accuracy: 0.8181\n",
      "Epoch 90/100\n",
      "943/943 [==============================] - 2s 2ms/step - loss: 0.3573 - accuracy: 0.8200 - val_loss: 0.3639 - val_accuracy: 0.8141\n",
      "Epoch 91/100\n",
      "943/943 [==============================] - 2s 2ms/step - loss: 0.3558 - accuracy: 0.8188 - val_loss: 0.3654 - val_accuracy: 0.8163\n",
      "Epoch 92/100\n",
      "943/943 [==============================] - 2s 2ms/step - loss: 0.3553 - accuracy: 0.8201 - val_loss: 0.3646 - val_accuracy: 0.8177\n",
      "Epoch 93/100\n",
      "943/943 [==============================] - 2s 2ms/step - loss: 0.3550 - accuracy: 0.8191 - val_loss: 0.3638 - val_accuracy: 0.8151\n",
      "Epoch 94/100\n",
      "943/943 [==============================] - 2s 2ms/step - loss: 0.3565 - accuracy: 0.8176 - val_loss: 0.3625 - val_accuracy: 0.8155\n",
      "Epoch 95/100\n",
      "943/943 [==============================] - 2s 2ms/step - loss: 0.3566 - accuracy: 0.8194 - val_loss: 0.3795 - val_accuracy: 0.8040\n",
      "Epoch 96/100\n",
      "943/943 [==============================] - 2s 2ms/step - loss: 0.3559 - accuracy: 0.8191 - val_loss: 0.3662 - val_accuracy: 0.8129\n",
      "Epoch 97/100\n",
      "943/943 [==============================] - 2s 2ms/step - loss: 0.3573 - accuracy: 0.8192 - val_loss: 0.3653 - val_accuracy: 0.8145\n",
      "Epoch 98/100\n",
      "943/943 [==============================] - 2s 3ms/step - loss: 0.3605 - accuracy: 0.8152 - val_loss: 0.3684 - val_accuracy: 0.8154\n",
      "Epoch 99/100\n",
      "943/943 [==============================] - 2s 3ms/step - loss: 0.3578 - accuracy: 0.8182 - val_loss: 0.3796 - val_accuracy: 0.8063\n",
      "Epoch 100/100\n",
      "943/943 [==============================] - 2s 2ms/step - loss: 0.3559 - accuracy: 0.8186 - val_loss: 0.3698 - val_accuracy: 0.8100\n"
     ]
    }
   ],
   "source": [
    "# history = model.fit(X_train, y_train, epochs=30, validation_data=(X_valid, y_valid))\n",
    "history = model.fit(X_train, y_train, validation_data= (X_test, y_test), batch_size=32, epochs=100)"
   ]
  },
  {
   "cell_type": "code",
   "execution_count": 8,
   "metadata": {},
   "outputs": [
    {
     "data": {
      "image/png": "[encoded data removed]",
      "text/plain": [
       "<Figure size 576x360 with 1 Axes>"
      ]
     },
     "metadata": {
      "needs_background": "light"
     },
     "output_type": "display_data"
    }
   ],
   "source": [
    "import pandas as pd\n",
    "\n",
    "pd.DataFrame(history.history).plot(figsize=(8, 5))\n",
    "plt.grid(True)\n",
    "plt.gca().set_ylim(0, 1)\n",
    "plt.show()"
   ]
  },
  {
   "cell_type": "code",
   "execution_count": 9,
   "metadata": {},
   "outputs": [
    {
     "name": "stdout",
     "output_type": "stream",
     "text": [
      "471/471 [==============================] - 1s 1ms/step - loss: 0.3698 - accuracy: 0.8100\n"
     ]
    },
    {
     "data": {
      "text/plain": [
       "[0.3697892129421234, 0.8099601864814758]"
      ]
     },
     "execution_count": 9,
     "metadata": {},
     "output_type": "execute_result"
    }
   ],
   "source": [
    "model.evaluate(X_test,y_test)"
   ]
  },
  {
   "cell_type": "code",
   "execution_count": 11,
   "metadata": {},
   "outputs": [
    {
     "name": "stdout",
     "output_type": "stream",
     "text": [
      "471/471 [==============================] - 1s 1ms/step\n"
     ]
    },
    {
     "ename": "ValueError",
     "evalue": "Classification metrics can't handle a mix of binary and continuous targets",
     "output_type": "error",
     "traceback": [
      "\u001b[1;31m---------------------------------------------------------------------------\u001b[0m",
      "\u001b[1;31mValueError\u001b[0m                                Traceback (most recent call last)",
      "\u001b[1;32mc:\\Repos\\podstawy_sztucznej_inteligencji\\Z11_G_keras.ipynb Cell 11'\u001b[0m in \u001b[0;36m<cell line: 2>\u001b[1;34m()\u001b[0m\n\u001b[0;32m      <a href='vscode-notebook-cell:/c%3A/Repos/podstawy_sztucznej_inteligencji/Z11_G_keras.ipynb#ch0000012?line=0'>1</a>\u001b[0m \u001b[39mfrom\u001b[39;00m \u001b[39msklearn\u001b[39;00m \u001b[39mimport\u001b[39;00m  metrics\n\u001b[1;32m----> <a href='vscode-notebook-cell:/c%3A/Repos/podstawy_sztucznej_inteligencji/Z11_G_keras.ipynb#ch0000012?line=1'>2</a>\u001b[0m metrics\u001b[39m.\u001b[39;49maccuracy_score(y_true\u001b[39m=\u001b[39;49m y_test, y_pred\u001b[39m=\u001b[39;49m model\u001b[39m.\u001b[39;49mpredict(X_test) )\n",
      "File \u001b[1;32mc:\\Users\\Paweł\\AppData\\Local\\Programs\\Python\\Python310\\lib\\site-packages\\sklearn\\metrics\\_classification.py:211\u001b[0m, in \u001b[0;36maccuracy_score\u001b[1;34m(y_true, y_pred, normalize, sample_weight)\u001b[0m\n\u001b[0;32m    <a href='file:///c%3A/Users/Pawe%C5%82/AppData/Local/Programs/Python/Python310/lib/site-packages/sklearn/metrics/_classification.py?line=144'>145</a>\u001b[0m \u001b[39m\"\"\"Accuracy classification score.\u001b[39;00m\n\u001b[0;32m    <a href='file:///c%3A/Users/Pawe%C5%82/AppData/Local/Programs/Python/Python310/lib/site-packages/sklearn/metrics/_classification.py?line=145'>146</a>\u001b[0m \n\u001b[0;32m    <a href='file:///c%3A/Users/Pawe%C5%82/AppData/Local/Programs/Python/Python310/lib/site-packages/sklearn/metrics/_classification.py?line=146'>147</a>\u001b[0m \u001b[39mIn multilabel classification, this function computes subset accuracy:\u001b[39;00m\n\u001b[1;32m   (...)\u001b[0m\n\u001b[0;32m    <a href='file:///c%3A/Users/Pawe%C5%82/AppData/Local/Programs/Python/Python310/lib/site-packages/sklearn/metrics/_classification.py?line=206'>207</a>\u001b[0m \u001b[39m0.5\u001b[39;00m\n\u001b[0;32m    <a href='file:///c%3A/Users/Pawe%C5%82/AppData/Local/Programs/Python/Python310/lib/site-packages/sklearn/metrics/_classification.py?line=207'>208</a>\u001b[0m \u001b[39m\"\"\"\u001b[39;00m\n\u001b[0;32m    <a href='file:///c%3A/Users/Pawe%C5%82/AppData/Local/Programs/Python/Python310/lib/site-packages/sklearn/metrics/_classification.py?line=209'>210</a>\u001b[0m \u001b[39m# Compute accuracy for each possible representation\u001b[39;00m\n\u001b[1;32m--> <a href='file:///c%3A/Users/Pawe%C5%82/AppData/Local/Programs/Python/Python310/lib/site-packages/sklearn/metrics/_classification.py?line=210'>211</a>\u001b[0m y_type, y_true, y_pred \u001b[39m=\u001b[39m _check_targets(y_true, y_pred)\n\u001b[0;32m    <a href='file:///c%3A/Users/Pawe%C5%82/AppData/Local/Programs/Python/Python310/lib/site-packages/sklearn/metrics/_classification.py?line=211'>212</a>\u001b[0m check_consistent_length(y_true, y_pred, sample_weight)\n\u001b[0;32m    <a href='file:///c%3A/Users/Pawe%C5%82/AppData/Local/Programs/Python/Python310/lib/site-packages/sklearn/metrics/_classification.py?line=212'>213</a>\u001b[0m \u001b[39mif\u001b[39;00m y_type\u001b[39m.\u001b[39mstartswith(\u001b[39m\"\u001b[39m\u001b[39mmultilabel\u001b[39m\u001b[39m\"\u001b[39m):\n",
      "File \u001b[1;32mc:\\Users\\Paweł\\AppData\\Local\\Programs\\Python\\Python310\\lib\\site-packages\\sklearn\\metrics\\_classification.py:93\u001b[0m, in \u001b[0;36m_check_targets\u001b[1;34m(y_true, y_pred)\u001b[0m\n\u001b[0;32m     <a href='file:///c%3A/Users/Pawe%C5%82/AppData/Local/Programs/Python/Python310/lib/site-packages/sklearn/metrics/_classification.py?line=89'>90</a>\u001b[0m     y_type \u001b[39m=\u001b[39m {\u001b[39m\"\u001b[39m\u001b[39mmulticlass\u001b[39m\u001b[39m\"\u001b[39m}\n\u001b[0;32m     <a href='file:///c%3A/Users/Pawe%C5%82/AppData/Local/Programs/Python/Python310/lib/site-packages/sklearn/metrics/_classification.py?line=91'>92</a>\u001b[0m \u001b[39mif\u001b[39;00m \u001b[39mlen\u001b[39m(y_type) \u001b[39m>\u001b[39m \u001b[39m1\u001b[39m:\n\u001b[1;32m---> <a href='file:///c%3A/Users/Pawe%C5%82/AppData/Local/Programs/Python/Python310/lib/site-packages/sklearn/metrics/_classification.py?line=92'>93</a>\u001b[0m     \u001b[39mraise\u001b[39;00m \u001b[39mValueError\u001b[39;00m(\n\u001b[0;32m     <a href='file:///c%3A/Users/Pawe%C5%82/AppData/Local/Programs/Python/Python310/lib/site-packages/sklearn/metrics/_classification.py?line=93'>94</a>\u001b[0m         \u001b[39m\"\u001b[39m\u001b[39mClassification metrics can\u001b[39m\u001b[39m'\u001b[39m\u001b[39mt handle a mix of \u001b[39m\u001b[39m{0}\u001b[39;00m\u001b[39m and \u001b[39m\u001b[39m{1}\u001b[39;00m\u001b[39m targets\u001b[39m\u001b[39m\"\u001b[39m\u001b[39m.\u001b[39mformat(\n\u001b[0;32m     <a href='file:///c%3A/Users/Pawe%C5%82/AppData/Local/Programs/Python/Python310/lib/site-packages/sklearn/metrics/_classification.py?line=94'>95</a>\u001b[0m             type_true, type_pred\n\u001b[0;32m     <a href='file:///c%3A/Users/Pawe%C5%82/AppData/Local/Programs/Python/Python310/lib/site-packages/sklearn/metrics/_classification.py?line=95'>96</a>\u001b[0m         )\n\u001b[0;32m     <a href='file:///c%3A/Users/Pawe%C5%82/AppData/Local/Programs/Python/Python310/lib/site-packages/sklearn/metrics/_classification.py?line=96'>97</a>\u001b[0m     )\n\u001b[0;32m     <a href='file:///c%3A/Users/Pawe%C5%82/AppData/Local/Programs/Python/Python310/lib/site-packages/sklearn/metrics/_classification.py?line=98'>99</a>\u001b[0m \u001b[39m# We can't have more than one value on y_type => The set is no more needed\u001b[39;00m\n\u001b[0;32m    <a href='file:///c%3A/Users/Pawe%C5%82/AppData/Local/Programs/Python/Python310/lib/site-packages/sklearn/metrics/_classification.py?line=99'>100</a>\u001b[0m y_type \u001b[39m=\u001b[39m y_type\u001b[39m.\u001b[39mpop()\n",
      "\u001b[1;31mValueError\u001b[0m: Classification metrics can't handle a mix of binary and continuous targets"
     ]
    }
   ],
   "source": [
    "from sklearn import  metrics\n",
    "metrics.accuracy_score(y_true= y_test, y_pred= model.predict(X_test) )"
   ]
  },
  {
   "cell_type": "markdown",
   "metadata": {},
   "source": [
    "# Zad\n",
    "\n",
    "Porównaj powyższy wynik z nauką na danych znormalizowanych."
   ]
  },
  {
   "cell_type": "code",
   "execution_count": 1,
   "metadata": {},
   "outputs": [],
   "source": [
    "from sklearn.preprocessing import StandardScaler\n",
    "\n"
   ]
  },
  {
   "cell_type": "markdown",
   "metadata": {},
   "source": [
    "# Zad. \n",
    "Stwórz wykres porównujący metody. "
   ]
  },
  {
   "cell_type": "code",
   "execution_count": 22,
   "metadata": {},
   "outputs": [
    {
     "data": {
      "image/png": "[encoded data removed]",
      "text/plain": [
       "<Figure size 432x288 with 1 Axes>"
      ]
     },
     "metadata": {
      "needs_background": "light"
     },
     "output_type": "display_data"
    }
   ],
   "source": []
  }
 ],
 "metadata": {
  "interpreter": {
   "hash": "29110c1f4855edaa980c663b0284384a8113396a3b62827b7d2d19fbd2631ff4"
  },
  "kernelspec": {
   "display_name": "Python 3.10.4 64-bit (system)",
   "language": "python",
   "name": "python3"
  },
  "language_info": {
   "codemirror_mode": {
    "name": "ipython",
    "version": 3
   },
   "file_extension": ".py",
   "mimetype": "text/x-python",
   "name": "python",
   "nbconvert_exporter": "python",
   "pygments_lexer": "ipython3",
   "version": "3.10.4"
  }
 },
 "nbformat": 4,
 "nbformat_minor": 4
}
