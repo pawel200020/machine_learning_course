{
 "cells": [
  {
   "cell_type": "code",
   "execution_count": 1,
   "metadata": {},
   "outputs": [
    {
     "name": "stdout",
     "output_type": "stream",
     "text": [
      "2.8.0\n",
      "2.8.0\n"
     ]
    }
   ],
   "source": [
    "import tensorflow as tf\n",
    "from tensorflow import keras\n",
    "print(tf.__version__)\n",
    "\n",
    "print(keras.__version__)"
   ]
  },
  {
   "cell_type": "code",
   "execution_count": 2,
   "metadata": {},
   "outputs": [],
   "source": [
    "import numpy as np\n",
    "import pandas as pd\n",
    "import matplotlib.pyplot as plt\n",
    "import os"
   ]
  },
  {
   "cell_type": "code",
   "execution_count": 3,
   "metadata": {},
   "outputs": [
    {
     "name": "stderr",
     "output_type": "stream",
     "text": [
      "C:\\Users\\p1\\AppData\\Local\\Temp\\ipykernel_23776\\357239312.py:6: ParserWarning: Falling back to the 'python' engine because the 'c' engine does not support regex separators (separators > 1 char and different from '\\s+' are interpreted as regex); you can avoid this warning by specifying engine='python'.\n",
      "  train_set = pd.read_csv('Dane/adult/adult.data', sep=\", \",header = None)\n",
      "C:\\Users\\p1\\AppData\\Local\\Temp\\ipykernel_23776\\357239312.py:7: ParserWarning: Falling back to the 'python' engine because the 'c' engine does not support regex separators (separators > 1 char and different from '\\s+' are interpreted as regex); you can avoid this warning by specifying engine='python'.\n",
      "  test_set = pd.read_csv('Dane/adult/adult.test', sep=\", \",skiprows = 1, header = None) # Make sure to skip a row for the test set\n"
     ]
    },
    {
     "data": {
      "text/html": [
       "<div>\n",
       "<style scoped>\n",
       "    .dataframe tbody tr th:only-of-type {\n",
       "        vertical-align: middle;\n",
       "    }\n",
       "\n",
       "    .dataframe tbody tr th {\n",
       "        vertical-align: top;\n",
       "    }\n",
       "\n",
       "    .dataframe thead th {\n",
       "        text-align: right;\n",
       "    }\n",
       "</style>\n",
       "<table border=\"1\" class=\"dataframe\">\n",
       "  <thead>\n",
       "    <tr style=\"text-align: right;\">\n",
       "      <th></th>\n",
       "      <th>age</th>\n",
       "      <th>workclass</th>\n",
       "      <th>fnlwgt</th>\n",
       "      <th>education</th>\n",
       "      <th>education_num</th>\n",
       "      <th>marital_status</th>\n",
       "      <th>occupation</th>\n",
       "      <th>relationship</th>\n",
       "      <th>race</th>\n",
       "      <th>sex</th>\n",
       "      <th>capital_gain</th>\n",
       "      <th>capital_loss</th>\n",
       "      <th>hours_per_week</th>\n",
       "      <th>native_country</th>\n",
       "      <th>wage_class</th>\n",
       "    </tr>\n",
       "  </thead>\n",
       "  <tbody>\n",
       "    <tr>\n",
       "      <th>0</th>\n",
       "      <td>39</td>\n",
       "      <td>State-gov</td>\n",
       "      <td>77516</td>\n",
       "      <td>Bachelors</td>\n",
       "      <td>13</td>\n",
       "      <td>Never-married</td>\n",
       "      <td>Adm-clerical</td>\n",
       "      <td>Not-in-family</td>\n",
       "      <td>White</td>\n",
       "      <td>Male</td>\n",
       "      <td>2174</td>\n",
       "      <td>0</td>\n",
       "      <td>40</td>\n",
       "      <td>United-States</td>\n",
       "      <td>&lt;=50K</td>\n",
       "    </tr>\n",
       "    <tr>\n",
       "      <th>1</th>\n",
       "      <td>50</td>\n",
       "      <td>Self-emp-not-inc</td>\n",
       "      <td>83311</td>\n",
       "      <td>Bachelors</td>\n",
       "      <td>13</td>\n",
       "      <td>Married-civ-spouse</td>\n",
       "      <td>Exec-managerial</td>\n",
       "      <td>Husband</td>\n",
       "      <td>White</td>\n",
       "      <td>Male</td>\n",
       "      <td>0</td>\n",
       "      <td>0</td>\n",
       "      <td>13</td>\n",
       "      <td>United-States</td>\n",
       "      <td>&lt;=50K</td>\n",
       "    </tr>\n",
       "    <tr>\n",
       "      <th>2</th>\n",
       "      <td>38</td>\n",
       "      <td>Private</td>\n",
       "      <td>215646</td>\n",
       "      <td>HS-grad</td>\n",
       "      <td>9</td>\n",
       "      <td>Divorced</td>\n",
       "      <td>Handlers-cleaners</td>\n",
       "      <td>Not-in-family</td>\n",
       "      <td>White</td>\n",
       "      <td>Male</td>\n",
       "      <td>0</td>\n",
       "      <td>0</td>\n",
       "      <td>40</td>\n",
       "      <td>United-States</td>\n",
       "      <td>&lt;=50K</td>\n",
       "    </tr>\n",
       "    <tr>\n",
       "      <th>3</th>\n",
       "      <td>53</td>\n",
       "      <td>Private</td>\n",
       "      <td>234721</td>\n",
       "      <td>11th</td>\n",
       "      <td>7</td>\n",
       "      <td>Married-civ-spouse</td>\n",
       "      <td>Handlers-cleaners</td>\n",
       "      <td>Husband</td>\n",
       "      <td>Black</td>\n",
       "      <td>Male</td>\n",
       "      <td>0</td>\n",
       "      <td>0</td>\n",
       "      <td>40</td>\n",
       "      <td>United-States</td>\n",
       "      <td>&lt;=50K</td>\n",
       "    </tr>\n",
       "    <tr>\n",
       "      <th>4</th>\n",
       "      <td>28</td>\n",
       "      <td>Private</td>\n",
       "      <td>338409</td>\n",
       "      <td>Bachelors</td>\n",
       "      <td>13</td>\n",
       "      <td>Married-civ-spouse</td>\n",
       "      <td>Prof-specialty</td>\n",
       "      <td>Wife</td>\n",
       "      <td>Black</td>\n",
       "      <td>Female</td>\n",
       "      <td>0</td>\n",
       "      <td>0</td>\n",
       "      <td>40</td>\n",
       "      <td>Cuba</td>\n",
       "      <td>&lt;=50K</td>\n",
       "    </tr>\n",
       "  </tbody>\n",
       "</table>\n",
       "</div>"
      ],
      "text/plain": [
       "   age         workclass  fnlwgt  education  education_num  \\\n",
       "0   39         State-gov   77516  Bachelors             13   \n",
       "1   50  Self-emp-not-inc   83311  Bachelors             13   \n",
       "2   38           Private  215646    HS-grad              9   \n",
       "3   53           Private  234721       11th              7   \n",
       "4   28           Private  338409  Bachelors             13   \n",
       "\n",
       "       marital_status         occupation   relationship   race     sex  \\\n",
       "0       Never-married       Adm-clerical  Not-in-family  White    Male   \n",
       "1  Married-civ-spouse    Exec-managerial        Husband  White    Male   \n",
       "2            Divorced  Handlers-cleaners  Not-in-family  White    Male   \n",
       "3  Married-civ-spouse  Handlers-cleaners        Husband  Black    Male   \n",
       "4  Married-civ-spouse     Prof-specialty           Wife  Black  Female   \n",
       "\n",
       "   capital_gain  capital_loss  hours_per_week native_country wage_class  \n",
       "0          2174             0              40  United-States      <=50K  \n",
       "1             0             0              13  United-States      <=50K  \n",
       "2             0             0              40  United-States      <=50K  \n",
       "3             0             0              40  United-States      <=50K  \n",
       "4             0             0              40           Cuba      <=50K  "
      ]
     },
     "execution_count": 3,
     "metadata": {},
     "output_type": "execute_result"
    }
   ],
   "source": [
    "# Wczytaj dane treningowe i testowe\n",
    "import numpy as np\n",
    "import matplotlib.pyplot as plt\n",
    "import pandas as pd\n",
    "\n",
    "train_set = pd.read_csv('Dane/adult/adult.data', sep=\", \",header = None)\n",
    "test_set = pd.read_csv('Dane/adult/adult.test', sep=\", \",skiprows = 1, header = None) # Make sure to skip a row for the test set\n",
    "\n",
    "col_labels = ['age', 'workclass', 'fnlwgt', 'education', 'education_num', 'marital_status', 'occupation', \n",
    "              'relationship', 'race', 'sex', 'capital_gain', 'capital_loss', 'hours_per_week', 'native_country',\n",
    "             'wage_class']\n",
    "train_set.columns = col_labels\n",
    "test_set.columns = col_labels\n",
    "\n",
    "train = train_set.replace('?', np.nan).dropna()\n",
    "test = test_set.replace('?', np.nan).dropna()\n",
    "\n",
    "train_set.head()\n"
   ]
  },
  {
   "cell_type": "markdown",
   "metadata": {},
   "source": [
    "# Zad.\n",
    "Zróbmy szybki preprocesing"
   ]
  },
  {
   "cell_type": "code",
   "execution_count": 4,
   "metadata": {},
   "outputs": [],
   "source": [
    "dataset = pd.concat([train,test])\n",
    "\n",
    "dataset['wage_class'] = dataset.wage_class.replace({'<=50K.': 0,'<=50K':0, '>50K.':1, '>50K':1})\n",
    "\n",
    "dataset.drop([\"fnlwgt\"],axis=1,inplace=True)\n",
    "\n",
    "dataset.drop([\"education\"],axis=1,inplace=True)\n",
    "\n",
    "x = dataset.groupby('native_country')[\"wage_class\"].mean()\n",
    "\n",
    "d = dict(pd.cut(x[x.index!=\" United-States\"],5,labels=range(5)))\n",
    "\n",
    "dataset['native_country'] = dataset['native_country'].replace(d)\n",
    "\n",
    "dataset = pd.get_dummies(dataset,drop_first=True)\n",
    "\n",
    "train = dataset.iloc[:train.shape[0]]\n",
    "test = dataset.iloc[train.shape[0]:]\n",
    "\n",
    "X_train = train.drop(\"wage_class\",axis=1)\n",
    "y_train = train.wage_class\n",
    "\n",
    "X_test = test.drop(\"wage_class\",axis=1)\n",
    "y_test = test.wage_class\n"
   ]
  },
  {
   "cell_type": "code",
   "execution_count": 5,
   "metadata": {},
   "outputs": [],
   "source": [
    "from keras.callbacks import ModelCheckpoint"
   ]
  },
  {
   "cell_type": "code",
   "execution_count": 6,
   "metadata": {},
   "outputs": [
    {
     "name": "stdout",
     "output_type": "stream",
     "text": [
      "Model: \"sequential\"\n",
      "_________________________________________________________________\n",
      " Layer (type)                Output Shape              Param #   \n",
      "=================================================================\n",
      " dense (Dense)               (None, 100)               4200      \n",
      "                                                                 \n",
      " dense_1 (Dense)             (None, 50)                5050      \n",
      "                                                                 \n",
      " dense_2 (Dense)             (None, 10)                510       \n",
      "                                                                 \n",
      " dense_3 (Dense)             (None, 1)                 11        \n",
      "                                                                 \n",
      "=================================================================\n",
      "Total params: 9,771\n",
      "Trainable params: 9,771\n",
      "Non-trainable params: 0\n",
      "_________________________________________________________________\n"
     ]
    }
   ],
   "source": [
    "from keras.models import Sequential\n",
    "from keras.layers import Dense\n",
    "\n",
    "from keras.callbacks import History\n",
    "\n",
    "history = History()\n",
    "model = Sequential()\n",
    "model.add(Dense(100,activation=\"sigmoid\",input_shape=(X_train.shape[1],)))\n",
    "model.add(Dense(50,activation=\"sigmoid\"))\n",
    "model.add(Dense(10,activation=\"sigmoid\"))\n",
    "model.add(Dense(1,activation=\"sigmoid\"))\n",
    "model.summary()"
   ]
  },
  {
   "cell_type": "code",
   "execution_count": 7,
   "metadata": {},
   "outputs": [],
   "source": [
    "save_best_model = ModelCheckpoint(\"wagi_best.h5py\",save_best_only=True)\n",
    "model.compile(loss=\"binary_crossentropy\",optimizer=\"Adam\", metrics=[\"accuracy\"])"
   ]
  },
  {
   "cell_type": "code",
   "execution_count": 8,
   "metadata": {},
   "outputs": [
    {
     "name": "stdout",
     "output_type": "stream",
     "text": [
      "Epoch 1/100\n",
      "938/943 [============================>.] - ETA: 0s - loss: 0.4581 - accuracy: 0.7841INFO:tensorflow:Assets written to: wagi_best.h5py\\assets\n",
      "943/943 [==============================] - 2s 2ms/step - loss: 0.4578 - accuracy: 0.7841 - val_loss: 0.3920 - val_accuracy: 0.8074\n",
      "Epoch 2/100\n",
      "937/943 [============================>.] - ETA: 0s - loss: 0.3813 - accuracy: 0.8122INFO:tensorflow:Assets written to: wagi_best.h5py\\assets\n",
      "943/943 [==============================] - 2s 2ms/step - loss: 0.3815 - accuracy: 0.8118 - val_loss: 0.3780 - val_accuracy: 0.7997\n",
      "Epoch 3/100\n",
      "936/943 [============================>.] - ETA: 0s - loss: 0.3766 - accuracy: 0.8109INFO:tensorflow:Assets written to: wagi_best.h5py\\assets\n",
      "943/943 [==============================] - 2s 2ms/step - loss: 0.3764 - accuracy: 0.8111 - val_loss: 0.3699 - val_accuracy: 0.8138\n",
      "Epoch 4/100\n",
      "943/943 [==============================] - 1s 1ms/step - loss: 0.3739 - accuracy: 0.8111 - val_loss: 0.4005 - val_accuracy: 0.8027\n",
      "Epoch 5/100\n",
      "913/943 [============================>.] - ETA: 0s - loss: 0.3699 - accuracy: 0.8150INFO:tensorflow:Assets written to: wagi_best.h5py\\assets\n",
      "943/943 [==============================] - 2s 2ms/step - loss: 0.3702 - accuracy: 0.8146 - val_loss: 0.3679 - val_accuracy: 0.8122\n",
      "Epoch 6/100\n",
      "912/943 [============================>.] - ETA: 0s - loss: 0.3639 - accuracy: 0.8238INFO:tensorflow:Assets written to: wagi_best.h5py\\assets\n",
      "943/943 [==============================] - 2s 2ms/step - loss: 0.3637 - accuracy: 0.8240 - val_loss: 0.3568 - val_accuracy: 0.8242\n",
      "Epoch 7/100\n",
      "943/943 [==============================] - 1s 1ms/step - loss: 0.3693 - accuracy: 0.8153 - val_loss: 0.3677 - val_accuracy: 0.8133\n",
      "Epoch 8/100\n",
      "943/943 [==============================] - 1s 1ms/step - loss: 0.3689 - accuracy: 0.8141 - val_loss: 0.3644 - val_accuracy: 0.8212\n",
      "Epoch 9/100\n",
      "943/943 [==============================] - 1s 2ms/step - loss: 0.3668 - accuracy: 0.8165 - val_loss: 0.3676 - val_accuracy: 0.8193\n",
      "Epoch 10/100\n",
      "943/943 [==============================] - 1s 2ms/step - loss: 0.3674 - accuracy: 0.8163 - val_loss: 0.3640 - val_accuracy: 0.8176\n",
      "Epoch 11/100\n",
      "943/943 [==============================] - 1s 1ms/step - loss: 0.3664 - accuracy: 0.8152 - val_loss: 0.4080 - val_accuracy: 0.7807\n",
      "Epoch 12/100\n",
      "943/943 [==============================] - 1s 1ms/step - loss: 0.3668 - accuracy: 0.8140 - val_loss: 0.3697 - val_accuracy: 0.8098\n",
      "Epoch 13/100\n",
      "943/943 [==============================] - 1s 1ms/step - loss: 0.3657 - accuracy: 0.8163 - val_loss: 0.3659 - val_accuracy: 0.8189\n",
      "Epoch 14/100\n",
      "943/943 [==============================] - 1s 1ms/step - loss: 0.3678 - accuracy: 0.8146 - val_loss: 0.3669 - val_accuracy: 0.8152\n",
      "Epoch 15/100\n",
      "943/943 [==============================] - 1s 1ms/step - loss: 0.3645 - accuracy: 0.8156 - val_loss: 0.3624 - val_accuracy: 0.8171\n",
      "Epoch 16/100\n",
      "943/943 [==============================] - 1s 1ms/step - loss: 0.3655 - accuracy: 0.8125 - val_loss: 0.3677 - val_accuracy: 0.8172\n",
      "Epoch 17/100\n",
      "943/943 [==============================] - 1s 1ms/step - loss: 0.3654 - accuracy: 0.8158 - val_loss: 0.3744 - val_accuracy: 0.8131\n",
      "Epoch 18/100\n",
      "943/943 [==============================] - 1s 1ms/step - loss: 0.3649 - accuracy: 0.8145 - val_loss: 0.3623 - val_accuracy: 0.8168\n",
      "Epoch 19/100\n",
      "943/943 [==============================] - 1s 1ms/step - loss: 0.3645 - accuracy: 0.8144 - val_loss: 0.3686 - val_accuracy: 0.8156\n",
      "Epoch 20/100\n",
      "943/943 [==============================] - 1s 1ms/step - loss: 0.3652 - accuracy: 0.8142 - val_loss: 0.3656 - val_accuracy: 0.8185\n",
      "Epoch 21/100\n",
      "943/943 [==============================] - 1s 1ms/step - loss: 0.3654 - accuracy: 0.8137 - val_loss: 0.3634 - val_accuracy: 0.8148\n",
      "Epoch 22/100\n",
      "943/943 [==============================] - 1s 1ms/step - loss: 0.3653 - accuracy: 0.8151 - val_loss: 0.3641 - val_accuracy: 0.8159\n",
      "Epoch 23/100\n",
      "943/943 [==============================] - 1s 1ms/step - loss: 0.3636 - accuracy: 0.8178 - val_loss: 0.3627 - val_accuracy: 0.8178\n",
      "Epoch 24/100\n",
      "943/943 [==============================] - 1s 1ms/step - loss: 0.3622 - accuracy: 0.8173 - val_loss: 0.3614 - val_accuracy: 0.8177\n",
      "Epoch 25/100\n",
      "943/943 [==============================] - 1s 1ms/step - loss: 0.3633 - accuracy: 0.8180 - val_loss: 0.3685 - val_accuracy: 0.8186\n",
      "Epoch 26/100\n",
      "943/943 [==============================] - 1s 1ms/step - loss: 0.3631 - accuracy: 0.8150 - val_loss: 0.3617 - val_accuracy: 0.8179\n",
      "Epoch 27/100\n",
      "943/943 [==============================] - 1s 1ms/step - loss: 0.3626 - accuracy: 0.8176 - val_loss: 0.3645 - val_accuracy: 0.8173\n",
      "Epoch 28/100\n",
      "943/943 [==============================] - 1s 1ms/step - loss: 0.3624 - accuracy: 0.8152 - val_loss: 0.3958 - val_accuracy: 0.7903\n",
      "Epoch 29/100\n",
      "943/943 [==============================] - 1s 1ms/step - loss: 0.3635 - accuracy: 0.8155 - val_loss: 0.3634 - val_accuracy: 0.8179\n",
      "Epoch 30/100\n",
      "943/943 [==============================] - 1s 1ms/step - loss: 0.3610 - accuracy: 0.8178 - val_loss: 0.3714 - val_accuracy: 0.8067\n",
      "Epoch 31/100\n",
      "943/943 [==============================] - 1s 1ms/step - loss: 0.3622 - accuracy: 0.8161 - val_loss: 0.3614 - val_accuracy: 0.8170\n",
      "Epoch 32/100\n",
      "943/943 [==============================] - 1s 1ms/step - loss: 0.3612 - accuracy: 0.8185 - val_loss: 0.3614 - val_accuracy: 0.8173\n",
      "Epoch 33/100\n",
      "943/943 [==============================] - 1s 1ms/step - loss: 0.3615 - accuracy: 0.8170 - val_loss: 0.3625 - val_accuracy: 0.8156\n",
      "Epoch 34/100\n",
      "943/943 [==============================] - 1s 1ms/step - loss: 0.3610 - accuracy: 0.8188 - val_loss: 0.3649 - val_accuracy: 0.8157\n",
      "Epoch 35/100\n",
      "943/943 [==============================] - 1s 1ms/step - loss: 0.3598 - accuracy: 0.8170 - val_loss: 0.3609 - val_accuracy: 0.8172\n",
      "Epoch 36/100\n",
      "943/943 [==============================] - 1s 1ms/step - loss: 0.3600 - accuracy: 0.8180 - val_loss: 0.3657 - val_accuracy: 0.8189\n",
      "Epoch 37/100\n",
      "943/943 [==============================] - 1s 1ms/step - loss: 0.3709 - accuracy: 0.8162 - val_loss: 0.3753 - val_accuracy: 0.8124\n",
      "Epoch 38/100\n",
      "943/943 [==============================] - 1s 1ms/step - loss: 0.3631 - accuracy: 0.8163 - val_loss: 0.3633 - val_accuracy: 0.8185\n",
      "Epoch 39/100\n",
      "943/943 [==============================] - 1s 1ms/step - loss: 0.3617 - accuracy: 0.8184 - val_loss: 0.3638 - val_accuracy: 0.8159\n",
      "Epoch 40/100\n",
      "943/943 [==============================] - 1s 1ms/step - loss: 0.3627 - accuracy: 0.8173 - val_loss: 0.3630 - val_accuracy: 0.8178\n",
      "Epoch 41/100\n",
      "943/943 [==============================] - 1s 1ms/step - loss: 0.3627 - accuracy: 0.8187 - val_loss: 0.3789 - val_accuracy: 0.8144\n",
      "Epoch 42/100\n",
      "943/943 [==============================] - 1s 1ms/step - loss: 0.3637 - accuracy: 0.8170 - val_loss: 0.3646 - val_accuracy: 0.8150\n",
      "Epoch 43/100\n",
      "943/943 [==============================] - 1s 1ms/step - loss: 0.3653 - accuracy: 0.8138 - val_loss: 0.3679 - val_accuracy: 0.8170\n",
      "Epoch 44/100\n",
      "943/943 [==============================] - 1s 1ms/step - loss: 0.3648 - accuracy: 0.8154 - val_loss: 0.3698 - val_accuracy: 0.8135\n",
      "Epoch 45/100\n",
      "943/943 [==============================] - 1s 1ms/step - loss: 0.3632 - accuracy: 0.8167 - val_loss: 0.3682 - val_accuracy: 0.8122\n",
      "Epoch 46/100\n",
      "943/943 [==============================] - 1s 1ms/step - loss: 0.3629 - accuracy: 0.8165 - val_loss: 0.3637 - val_accuracy: 0.8159\n",
      "Epoch 47/100\n",
      "943/943 [==============================] - 1s 1ms/step - loss: 0.3614 - accuracy: 0.8181 - val_loss: 0.3666 - val_accuracy: 0.8141\n",
      "Epoch 48/100\n",
      "943/943 [==============================] - 1s 1ms/step - loss: 0.3653 - accuracy: 0.8148 - val_loss: 0.3684 - val_accuracy: 0.8166\n",
      "Epoch 49/100\n",
      "943/943 [==============================] - 1s 1ms/step - loss: 0.3642 - accuracy: 0.8166 - val_loss: 0.3684 - val_accuracy: 0.8125\n",
      "Epoch 50/100\n",
      "943/943 [==============================] - 1s 1ms/step - loss: 0.3623 - accuracy: 0.8179 - val_loss: 0.3694 - val_accuracy: 0.8133\n",
      "Epoch 51/100\n",
      "943/943 [==============================] - 1s 1ms/step - loss: 0.3632 - accuracy: 0.8161 - val_loss: 0.3777 - val_accuracy: 0.8034\n",
      "Epoch 52/100\n",
      "943/943 [==============================] - 1s 1ms/step - loss: 0.3633 - accuracy: 0.8159 - val_loss: 0.3673 - val_accuracy: 0.8141\n",
      "Epoch 53/100\n",
      "943/943 [==============================] - 1s 1ms/step - loss: 0.3606 - accuracy: 0.8165 - val_loss: 0.3892 - val_accuracy: 0.8006\n",
      "Epoch 54/100\n",
      "943/943 [==============================] - 1s 1ms/step - loss: 0.3611 - accuracy: 0.8188 - val_loss: 0.3641 - val_accuracy: 0.8187\n",
      "Epoch 55/100\n",
      "943/943 [==============================] - 1s 1ms/step - loss: 0.3609 - accuracy: 0.8185 - val_loss: 0.3628 - val_accuracy: 0.8169\n",
      "Epoch 56/100\n",
      "943/943 [==============================] - 1s 1ms/step - loss: 0.3595 - accuracy: 0.8194 - val_loss: 0.3661 - val_accuracy: 0.8148\n",
      "Epoch 57/100\n",
      "943/943 [==============================] - 1s 1ms/step - loss: 0.3591 - accuracy: 0.8169 - val_loss: 0.3637 - val_accuracy: 0.8179\n",
      "Epoch 58/100\n",
      "943/943 [==============================] - 1s 1ms/step - loss: 0.3620 - accuracy: 0.8178 - val_loss: 0.3669 - val_accuracy: 0.8178\n",
      "Epoch 59/100\n",
      "943/943 [==============================] - 1s 1ms/step - loss: 0.3626 - accuracy: 0.8155 - val_loss: 0.3667 - val_accuracy: 0.8141\n",
      "Epoch 60/100\n",
      "943/943 [==============================] - 1s 1ms/step - loss: 0.3615 - accuracy: 0.8176 - val_loss: 0.3644 - val_accuracy: 0.8185\n",
      "Epoch 61/100\n",
      "943/943 [==============================] - 1s 1ms/step - loss: 0.3629 - accuracy: 0.8180 - val_loss: 0.3656 - val_accuracy: 0.8158\n",
      "Epoch 62/100\n",
      "943/943 [==============================] - 1s 1ms/step - loss: 0.3625 - accuracy: 0.8155 - val_loss: 0.3648 - val_accuracy: 0.8183\n",
      "Epoch 63/100\n",
      "943/943 [==============================] - 1s 1ms/step - loss: 0.3612 - accuracy: 0.8144 - val_loss: 0.3648 - val_accuracy: 0.8143\n",
      "Epoch 64/100\n",
      "943/943 [==============================] - 1s 1ms/step - loss: 0.3613 - accuracy: 0.8178 - val_loss: 0.3671 - val_accuracy: 0.8142\n",
      "Epoch 65/100\n",
      "943/943 [==============================] - 1s 1ms/step - loss: 0.3608 - accuracy: 0.8178 - val_loss: 0.3640 - val_accuracy: 0.8171\n",
      "Epoch 66/100\n",
      "943/943 [==============================] - 1s 1ms/step - loss: 0.3604 - accuracy: 0.8161 - val_loss: 0.3674 - val_accuracy: 0.8177\n",
      "Epoch 67/100\n",
      "943/943 [==============================] - 1s 1ms/step - loss: 0.3592 - accuracy: 0.8169 - val_loss: 0.3640 - val_accuracy: 0.8159\n",
      "Epoch 68/100\n",
      "943/943 [==============================] - 1s 1ms/step - loss: 0.3593 - accuracy: 0.8178 - val_loss: 0.3788 - val_accuracy: 0.8019\n",
      "Epoch 69/100\n",
      "943/943 [==============================] - 1s 1ms/step - loss: 0.3589 - accuracy: 0.8177 - val_loss: 0.3885 - val_accuracy: 0.7974\n",
      "Epoch 70/100\n",
      "943/943 [==============================] - 1s 1ms/step - loss: 0.3583 - accuracy: 0.8191 - val_loss: 0.3639 - val_accuracy: 0.8183\n",
      "Epoch 71/100\n",
      "943/943 [==============================] - 1s 1ms/step - loss: 0.3584 - accuracy: 0.8171 - val_loss: 0.3630 - val_accuracy: 0.8189\n",
      "Epoch 72/100\n",
      "943/943 [==============================] - 1s 1ms/step - loss: 0.3580 - accuracy: 0.8193 - val_loss: 0.3682 - val_accuracy: 0.8124\n",
      "Epoch 73/100\n",
      "943/943 [==============================] - 1s 1ms/step - loss: 0.3579 - accuracy: 0.8175 - val_loss: 0.3653 - val_accuracy: 0.8145\n",
      "Epoch 74/100\n",
      "943/943 [==============================] - 1s 1ms/step - loss: 0.3587 - accuracy: 0.8200 - val_loss: 0.3679 - val_accuracy: 0.8173\n",
      "Epoch 75/100\n",
      "943/943 [==============================] - 1s 1ms/step - loss: 0.3582 - accuracy: 0.8174 - val_loss: 0.3638 - val_accuracy: 0.8162\n",
      "Epoch 76/100\n",
      "943/943 [==============================] - 1s 1ms/step - loss: 0.3580 - accuracy: 0.8177 - val_loss: 0.3635 - val_accuracy: 0.8166\n",
      "Epoch 77/100\n",
      "943/943 [==============================] - 2s 2ms/step - loss: 0.3570 - accuracy: 0.8195 - val_loss: 0.3637 - val_accuracy: 0.8177\n",
      "Epoch 78/100\n",
      "943/943 [==============================] - 1s 2ms/step - loss: 0.3584 - accuracy: 0.8180 - val_loss: 0.3629 - val_accuracy: 0.8173\n",
      "Epoch 79/100\n",
      "943/943 [==============================] - 1s 2ms/step - loss: 0.3565 - accuracy: 0.8191 - val_loss: 0.3626 - val_accuracy: 0.8173\n",
      "Epoch 80/100\n",
      "943/943 [==============================] - 1s 1ms/step - loss: 0.3571 - accuracy: 0.8201 - val_loss: 0.3641 - val_accuracy: 0.8183\n",
      "Epoch 81/100\n",
      "943/943 [==============================] - 1s 1ms/step - loss: 0.3574 - accuracy: 0.8177 - val_loss: 0.3622 - val_accuracy: 0.8173\n",
      "Epoch 82/100\n",
      "943/943 [==============================] - 1s 2ms/step - loss: 0.3561 - accuracy: 0.8194 - val_loss: 0.3648 - val_accuracy: 0.8171\n",
      "Epoch 83/100\n",
      "943/943 [==============================] - 1s 1ms/step - loss: 0.3568 - accuracy: 0.8188 - val_loss: 0.3631 - val_accuracy: 0.8169\n",
      "Epoch 84/100\n",
      "943/943 [==============================] - 1s 1ms/step - loss: 0.3559 - accuracy: 0.8194 - val_loss: 0.3626 - val_accuracy: 0.8178\n",
      "Epoch 85/100\n",
      "943/943 [==============================] - 1s 1ms/step - loss: 0.3565 - accuracy: 0.8181 - val_loss: 0.3626 - val_accuracy: 0.8177\n",
      "Epoch 86/100\n",
      "943/943 [==============================] - 1s 1ms/step - loss: 0.3574 - accuracy: 0.8179 - val_loss: 0.3627 - val_accuracy: 0.8175\n",
      "Epoch 87/100\n",
      "943/943 [==============================] - 1s 1ms/step - loss: 0.3564 - accuracy: 0.8184 - val_loss: 0.3625 - val_accuracy: 0.8177\n",
      "Epoch 88/100\n",
      "943/943 [==============================] - 1s 2ms/step - loss: 0.3562 - accuracy: 0.8181 - val_loss: 0.3650 - val_accuracy: 0.8174\n",
      "Epoch 89/100\n",
      "943/943 [==============================] - 1s 1ms/step - loss: 0.3560 - accuracy: 0.8192 - val_loss: 0.3655 - val_accuracy: 0.8145\n",
      "Epoch 90/100\n",
      "943/943 [==============================] - 1s 1ms/step - loss: 0.3561 - accuracy: 0.8187 - val_loss: 0.3645 - val_accuracy: 0.8156\n",
      "Epoch 91/100\n",
      "943/943 [==============================] - 1s 1ms/step - loss: 0.3558 - accuracy: 0.8202 - val_loss: 0.3712 - val_accuracy: 0.8077\n",
      "Epoch 92/100\n",
      "943/943 [==============================] - 1s 1ms/step - loss: 0.3567 - accuracy: 0.8179 - val_loss: 0.3666 - val_accuracy: 0.8167\n",
      "Epoch 93/100\n",
      "943/943 [==============================] - 1s 1ms/step - loss: 0.3562 - accuracy: 0.8196 - val_loss: 0.3715 - val_accuracy: 0.8090\n",
      "Epoch 94/100\n",
      "943/943 [==============================] - 1s 1ms/step - loss: 0.3555 - accuracy: 0.8189 - val_loss: 0.3623 - val_accuracy: 0.8174\n",
      "Epoch 95/100\n",
      "943/943 [==============================] - 1s 1ms/step - loss: 0.3551 - accuracy: 0.8204 - val_loss: 0.3675 - val_accuracy: 0.8129\n",
      "Epoch 96/100\n",
      "943/943 [==============================] - 1s 1ms/step - loss: 0.3556 - accuracy: 0.8187 - val_loss: 0.3676 - val_accuracy: 0.8151\n",
      "Epoch 97/100\n",
      "943/943 [==============================] - 1s 1ms/step - loss: 0.3550 - accuracy: 0.8211 - val_loss: 0.3800 - val_accuracy: 0.8035\n",
      "Epoch 98/100\n",
      "943/943 [==============================] - 1s 1ms/step - loss: 0.3551 - accuracy: 0.8184 - val_loss: 0.3648 - val_accuracy: 0.8169\n",
      "Epoch 99/100\n",
      "943/943 [==============================] - 1s 1ms/step - loss: 0.3557 - accuracy: 0.8202 - val_loss: 0.3640 - val_accuracy: 0.8153\n",
      "Epoch 100/100\n",
      "943/943 [==============================] - 1s 1ms/step - loss: 0.3557 - accuracy: 0.8179 - val_loss: 0.3664 - val_accuracy: 0.8148\n"
     ]
    }
   ],
   "source": [
    "save_best_model = ModelCheckpoint(\"wagi_best.h5py\",save_best_only=True)\n",
    "history = model.fit(X_train, y_train, validation_data= (X_test, y_test), batch_size=32,epochs=100, callbacks=[save_best_model])"
   ]
  },
  {
   "cell_type": "code",
   "execution_count": 9,
   "metadata": {},
   "outputs": [
    {
     "data": {
      "image/png": "[encoded data removed]",
      "text/plain": [
       "<Figure size 576x360 with 1 Axes>"
      ]
     },
     "metadata": {
      "needs_background": "light"
     },
     "output_type": "display_data"
    }
   ],
   "source": [
    "import pandas as pd\n",
    "\n",
    "pd.DataFrame(history.history).plot(figsize=(8, 5))\n",
    "plt.grid(True)\n",
    "plt.gca().set_ylim(0, 1)\n",
    "plt.show()"
   ]
  },
  {
   "cell_type": "code",
   "execution_count": 10,
   "metadata": {},
   "outputs": [
    {
     "name": "stdout",
     "output_type": "stream",
     "text": [
      "471/471 [==============================] - 0s 782us/step - loss: 0.3664 - accuracy: 0.8148\n"
     ]
    },
    {
     "data": {
      "text/plain": [
       "[0.36638692021369934, 0.8148074150085449]"
      ]
     },
     "execution_count": 10,
     "metadata": {},
     "output_type": "execute_result"
    }
   ],
   "source": [
    "model.evaluate(X_test,y_test)"
   ]
  },
  {
   "cell_type": "markdown",
   "metadata": {},
   "source": [
    "# Zad\n",
    "\n",
    "Wczytaj nauczony model"
   ]
  },
  {
   "cell_type": "code",
   "execution_count": 13,
   "metadata": {},
   "outputs": [
    {
     "name": "stdout",
     "output_type": "stream",
     "text": [
      "471/471 [==============================] - 0s 768us/step - loss: 0.3568 - accuracy: 0.8242\n"
     ]
    },
    {
     "data": {
      "text/plain": [
       "[0.3568456768989563, 0.8242363929748535]"
      ]
     },
     "execution_count": 13,
     "metadata": {},
     "output_type": "execute_result"
    }
   ],
   "source": [
    "model.load_weights(\"wagi_best.h5py\")\n",
    "model.evaluate(X_test,y_test)"
   ]
  },
  {
   "cell_type": "markdown",
   "metadata": {},
   "source": [
    "# Zad\n",
    "\n",
    "* Naucz dowolny model na zbiorze MNIST.\n",
    "* Zapisz optymalne parametry uczenia do pliku\n",
    "* Wczytaj dane z pliku"
   ]
  },
  {
   "cell_type": "code",
   "execution_count": 14,
   "metadata": {},
   "outputs": [],
   "source": [
    "(X_train_full, y_train_full), (X_test, y_test) = keras.datasets.mnist.load_data()"
   ]
  },
  {
   "cell_type": "code",
   "execution_count": 15,
   "metadata": {},
   "outputs": [],
   "source": [
    "X_valid, X_train = X_train_full[:5000] / 255., X_train_full[5000:] / 255.\n",
    "y_valid, y_train = y_train_full[:5000], y_train_full[5000:]\n",
    "X_test = X_test / 255."
   ]
  },
  {
   "cell_type": "code",
   "execution_count": 16,
   "metadata": {},
   "outputs": [
    {
     "name": "stdout",
     "output_type": "stream",
     "text": [
      "[[0. 0. 0. ... 1. 0. 0.]\n",
      " [0. 0. 0. ... 0. 0. 0.]\n",
      " [0. 0. 0. ... 0. 0. 0.]\n",
      " ...\n",
      " [0. 0. 0. ... 0. 0. 0.]\n",
      " [0. 0. 0. ... 0. 0. 0.]\n",
      " [0. 0. 0. ... 0. 1. 0.]]\n"
     ]
    }
   ],
   "source": [
    "from keras.utils import np_utils\n",
    "# one hot encode outputs\n",
    "y_train = np_utils.to_categorical(y_train)\n",
    "y_test = np_utils.to_categorical(y_test)\n",
    "\n",
    "y_valid = np_utils.to_categorical(y_valid)\n",
    "\n",
    "print(y_train)"
   ]
  },
  {
   "cell_type": "code",
   "execution_count": 22,
   "metadata": {},
   "outputs": [
    {
     "name": "stdout",
     "output_type": "stream",
     "text": [
      "Model: \"sequential\"\n",
      "_________________________________________________________________\n",
      " Layer (type)                Output Shape              Param #   \n",
      "=================================================================\n",
      " flatten (Flatten)           (None, 784)               0         \n",
      "                                                                 \n",
      " dense (Dense)               (None, 300)               235500    \n",
      "                                                                 \n",
      " dense_1 (Dense)             (None, 100)               30100     \n",
      "                                                                 \n",
      " dense_2 (Dense)             (None, 10)                1010      \n",
      "                                                                 \n",
      "=================================================================\n",
      "Total params: 266,610\n",
      "Trainable params: 266,610\n",
      "Non-trainable params: 0\n",
      "_________________________________________________________________\n",
      "Epoch 1/30\n",
      "1718/1719 [============================>.] - ETA: 0s - loss: 0.6198 - accuracy: 0.8404INFO:tensorflow:Assets written to: wagi_best2.h5py\\assets\n",
      "1719/1719 [==============================] - 4s 2ms/step - loss: 0.6196 - accuracy: 0.8405 - val_loss: 0.3103 - val_accuracy: 0.9120\n",
      "Epoch 2/30\n",
      "1702/1719 [============================>.] - ETA: 0s - loss: 0.2957 - accuracy: 0.9151INFO:tensorflow:Assets written to: wagi_best2.h5py\\assets\n",
      "1719/1719 [==============================] - 4s 2ms/step - loss: 0.2953 - accuracy: 0.9151 - val_loss: 0.2473 - val_accuracy: 0.9304\n",
      "Epoch 3/30\n",
      "1689/1719 [============================>.] - ETA: 0s - loss: 0.2428 - accuracy: 0.9303INFO:tensorflow:Assets written to: wagi_best2.h5py\\assets\n",
      "1719/1719 [==============================] - 3s 2ms/step - loss: 0.2430 - accuracy: 0.9302 - val_loss: 0.2060 - val_accuracy: 0.9426\n",
      "Epoch 4/30\n",
      "1718/1719 [============================>.] - ETA: 0s - loss: 0.2076 - accuracy: 0.9406INFO:tensorflow:Assets written to: wagi_best2.h5py\\assets\n",
      "1719/1719 [==============================] - 3s 2ms/step - loss: 0.2075 - accuracy: 0.9406 - val_loss: 0.1823 - val_accuracy: 0.9494\n",
      "Epoch 5/30\n",
      "1708/1719 [============================>.] - ETA: 0s - loss: 0.1810 - accuracy: 0.9486INFO:tensorflow:Assets written to: wagi_best2.h5py\\assets\n",
      "1719/1719 [==============================] - 3s 2ms/step - loss: 0.1811 - accuracy: 0.9485 - val_loss: 0.1645 - val_accuracy: 0.9536\n",
      "Epoch 6/30\n",
      "1686/1719 [============================>.] - ETA: 0s - loss: 0.1610 - accuracy: 0.9541INFO:tensorflow:Assets written to: wagi_best2.h5py\\assets\n",
      "1719/1719 [==============================] - 3s 2ms/step - loss: 0.1603 - accuracy: 0.9543 - val_loss: 0.1483 - val_accuracy: 0.9602\n",
      "Epoch 7/30\n",
      "1699/1719 [============================>.] - ETA: 0s - loss: 0.1431 - accuracy: 0.9598INFO:tensorflow:Assets written to: wagi_best2.h5py\\assets\n",
      "1719/1719 [==============================] - 3s 2ms/step - loss: 0.1431 - accuracy: 0.9598 - val_loss: 0.1367 - val_accuracy: 0.9634\n",
      "Epoch 8/30\n",
      "1697/1719 [============================>.] - ETA: 0s - loss: 0.1289 - accuracy: 0.9634INFO:tensorflow:Assets written to: wagi_best2.h5py\\assets\n",
      "1719/1719 [==============================] - 3s 2ms/step - loss: 0.1291 - accuracy: 0.9633 - val_loss: 0.1295 - val_accuracy: 0.9636\n",
      "Epoch 9/30\n",
      "1705/1719 [============================>.] - ETA: 0s - loss: 0.1175 - accuracy: 0.9674INFO:tensorflow:Assets written to: wagi_best2.h5py\\assets\n",
      "1719/1719 [==============================] - 3s 2ms/step - loss: 0.1174 - accuracy: 0.9674 - val_loss: 0.1183 - val_accuracy: 0.9672\n",
      "Epoch 10/30\n",
      "1695/1719 [============================>.] - ETA: 0s - loss: 0.1079 - accuracy: 0.9697INFO:tensorflow:Assets written to: wagi_best2.h5py\\assets\n",
      "1719/1719 [==============================] - 3s 2ms/step - loss: 0.1077 - accuracy: 0.9696 - val_loss: 0.1090 - val_accuracy: 0.9692\n",
      "Epoch 11/30\n",
      "1706/1719 [============================>.] - ETA: 0s - loss: 0.0987 - accuracy: 0.9720WARNING:tensorflow:Detecting that an object or model or tf.train.Checkpoint is being deleted with unrestored values. See the following logs for the specific values in question. To silence these warnings, use `status.expect_partial()`. See https://www.tensorflow.org/api_docs/python/tf/train/Checkpoint#restorefor details about the status object returned by the restore function.\n",
      "WARNING:tensorflow:Value in checkpoint could not be found in the restored object: (root).keras_api.metrics.0.total\n",
      "WARNING:tensorflow:Value in checkpoint could not be found in the restored object: (root).keras_api.metrics.0.count\n",
      "WARNING:tensorflow:Value in checkpoint could not be found in the restored object: (root).keras_api.metrics.1.total\n",
      "WARNING:tensorflow:Value in checkpoint could not be found in the restored object: (root).keras_api.metrics.1.count\n",
      "INFO:tensorflow:Assets written to: wagi_best2.h5py\\assets\n",
      "1719/1719 [==============================] - 3s 2ms/step - loss: 0.0987 - accuracy: 0.9720 - val_loss: 0.1050 - val_accuracy: 0.9696\n",
      "Epoch 12/30\n",
      "1702/1719 [============================>.] - ETA: 0s - loss: 0.0903 - accuracy: 0.9746INFO:tensorflow:Assets written to: wagi_best2.h5py\\assets\n",
      "1719/1719 [==============================] - 4s 2ms/step - loss: 0.0911 - accuracy: 0.9744 - val_loss: 0.1004 - val_accuracy: 0.9710\n",
      "Epoch 13/30\n",
      "1702/1719 [============================>.] - ETA: 0s - loss: 0.0839 - accuracy: 0.9762INFO:tensorflow:Assets written to: wagi_best2.h5py\\assets\n",
      "1719/1719 [==============================] - 3s 2ms/step - loss: 0.0843 - accuracy: 0.9762 - val_loss: 0.0948 - val_accuracy: 0.9726\n",
      "Epoch 14/30\n",
      "1715/1719 [============================>.] - ETA: 0s - loss: 0.0781 - accuracy: 0.9781INFO:tensorflow:Assets written to: wagi_best2.h5py\\assets\n",
      "1719/1719 [==============================] - 4s 2ms/step - loss: 0.0781 - accuracy: 0.9781 - val_loss: 0.0920 - val_accuracy: 0.9738\n",
      "Epoch 15/30\n",
      "1710/1719 [============================>.] - ETA: 0s - loss: 0.0724 - accuracy: 0.9797INFO:tensorflow:Assets written to: wagi_best2.h5py\\assets\n",
      "1719/1719 [==============================] - 3s 2ms/step - loss: 0.0726 - accuracy: 0.9796 - val_loss: 0.0877 - val_accuracy: 0.9726\n",
      "Epoch 16/30\n",
      "1689/1719 [============================>.] - ETA: 0s - loss: 0.0677 - accuracy: 0.9806INFO:tensorflow:Assets written to: wagi_best2.h5py\\assets\n",
      "1719/1719 [==============================] - 4s 2ms/step - loss: 0.0677 - accuracy: 0.9806 - val_loss: 0.0860 - val_accuracy: 0.9740\n",
      "Epoch 17/30\n",
      "1699/1719 [============================>.] - ETA: 0s - loss: 0.0633 - accuracy: 0.9822INFO:tensorflow:Assets written to: wagi_best2.h5py\\assets\n",
      "1719/1719 [==============================] - 3s 2ms/step - loss: 0.0632 - accuracy: 0.9822 - val_loss: 0.0835 - val_accuracy: 0.9754\n",
      "Epoch 18/30\n",
      "1694/1719 [============================>.] - ETA: 0s - loss: 0.0591 - accuracy: 0.9837INFO:tensorflow:Assets written to: wagi_best2.h5py\\assets\n",
      "1719/1719 [==============================] - 3s 2ms/step - loss: 0.0592 - accuracy: 0.9837 - val_loss: 0.0799 - val_accuracy: 0.9766\n",
      "Epoch 19/30\n",
      "1712/1719 [============================>.] - ETA: 0s - loss: 0.0555 - accuracy: 0.9850INFO:tensorflow:Assets written to: wagi_best2.h5py\\assets\n",
      "1719/1719 [==============================] - 3s 2ms/step - loss: 0.0555 - accuracy: 0.9850 - val_loss: 0.0782 - val_accuracy: 0.9768\n",
      "Epoch 20/30\n",
      "1711/1719 [============================>.] - ETA: 0s - loss: 0.0519 - accuracy: 0.9860INFO:tensorflow:Assets written to: wagi_best2.h5py\\assets\n",
      "1719/1719 [==============================] - 3s 2ms/step - loss: 0.0519 - accuracy: 0.9860 - val_loss: 0.0775 - val_accuracy: 0.9764\n",
      "Epoch 21/30\n",
      "1710/1719 [============================>.] - ETA: 0s - loss: 0.0488 - accuracy: 0.9870INFO:tensorflow:Assets written to: wagi_best2.h5py\\assets\n",
      "1719/1719 [==============================] - 3s 2ms/step - loss: 0.0488 - accuracy: 0.9869 - val_loss: 0.0736 - val_accuracy: 0.9784\n",
      "Epoch 22/30\n",
      "1719/1719 [==============================] - 3s 2ms/step - loss: 0.0458 - accuracy: 0.9878 - val_loss: 0.0744 - val_accuracy: 0.9780\n",
      "Epoch 23/30\n",
      "1719/1719 [==============================] - 3s 2ms/step - loss: 0.0431 - accuracy: 0.9884 - val_loss: 0.0756 - val_accuracy: 0.9770\n",
      "Epoch 24/30\n",
      "1696/1719 [============================>.] - ETA: 0s - loss: 0.0402 - accuracy: 0.9895INFO:tensorflow:Assets written to: wagi_best2.h5py\\assets\n",
      "1719/1719 [==============================] - 3s 2ms/step - loss: 0.0404 - accuracy: 0.9894 - val_loss: 0.0729 - val_accuracy: 0.9774\n",
      "Epoch 25/30\n",
      "1693/1719 [============================>.] - ETA: 0s - loss: 0.0383 - accuracy: 0.9900INFO:tensorflow:Assets written to: wagi_best2.h5py\\assets\n",
      "1719/1719 [==============================] - 3s 2ms/step - loss: 0.0383 - accuracy: 0.9900 - val_loss: 0.0708 - val_accuracy: 0.9792\n",
      "Epoch 26/30\n",
      "1691/1719 [============================>.] - ETA: 0s - loss: 0.0360 - accuracy: 0.9910INFO:tensorflow:Assets written to: wagi_best2.h5py\\assets\n",
      "1719/1719 [==============================] - 3s 2ms/step - loss: 0.0360 - accuracy: 0.9910 - val_loss: 0.0680 - val_accuracy: 0.9796\n",
      "Epoch 27/30\n",
      "1710/1719 [============================>.] - ETA: 0s - loss: 0.0339 - accuracy: 0.9916INFO:tensorflow:Assets written to: wagi_best2.h5py\\assets\n",
      "1719/1719 [==============================] - 3s 2ms/step - loss: 0.0340 - accuracy: 0.9916 - val_loss: 0.0672 - val_accuracy: 0.9806\n",
      "Epoch 28/30\n",
      "1719/1719 [==============================] - 3s 2ms/step - loss: 0.0321 - accuracy: 0.9921 - val_loss: 0.0692 - val_accuracy: 0.9804\n",
      "Epoch 29/30\n",
      "1719/1719 [==============================] - 3s 2ms/step - loss: 0.0300 - accuracy: 0.9932 - val_loss: 0.0676 - val_accuracy: 0.9792\n",
      "Epoch 30/30\n",
      "1719/1719 [==============================] - 3s 2ms/step - loss: 0.0285 - accuracy: 0.9935 - val_loss: 0.0673 - val_accuracy: 0.9796\n"
     ]
    }
   ],
   "source": [
    "keras.backend.clear_session()\n",
    "np.random.seed(42)\n",
    "tf.random.set_seed(42)\n",
    "\n",
    "model = keras.models.Sequential([\n",
    "    keras.layers.Flatten(input_shape=[28, 28]),\n",
    "    keras.layers.Dense(300, activation=\"relu\"),\n",
    "    keras.layers.Dense(100, activation=\"relu\"),\n",
    "    keras.layers.Dense(10, activation=\"softmax\")\n",
    "])\n",
    "\n",
    "model.summary()\n",
    "\n",
    "save_best_model = ModelCheckpoint(\"wagi_best2.h5py\",save_best_only=True)\n",
    "model.compile(loss=\"categorical_crossentropy\",\n",
    "              optimizer=\"sgd\",\n",
    "              metrics=[\"accuracy\"])\n",
    "save_best_model = ModelCheckpoint(\"wagi_best2.h5py\",save_best_only=True)\n",
    "history = model.fit(X_train, y_train, epochs=30, validation_data=(X_valid, y_valid), callbacks=[save_best_model])"
   ]
  },
  {
   "cell_type": "code",
   "execution_count": 23,
   "metadata": {},
   "outputs": [
    {
     "name": "stdout",
     "output_type": "stream",
     "text": [
      "313/313 [==============================] - 0s 1ms/step - loss: 0.0687 - accuracy: 0.9789\n"
     ]
    },
    {
     "data": {
      "text/plain": [
       "[0.06872598081827164, 0.9789000153541565]"
      ]
     },
     "execution_count": 23,
     "metadata": {},
     "output_type": "execute_result"
    }
   ],
   "source": [
    "model.load_weights(\"wagi_best2.h5py\")\n",
    "model.evaluate(X_test,y_test)"
   ]
  }
 ],
 "metadata": {
  "interpreter": {
   "hash": "26de051ba29f2982a8de78e945f0abaf191376122a1563185a90213a26c5da77"
  },
  "kernelspec": {
   "display_name": "Python 3.10.2 64-bit",
   "language": "python",
   "name": "python3"
  },
  "language_info": {
   "codemirror_mode": {
    "name": "ipython",
    "version": 3
   },
   "file_extension": ".py",
   "mimetype": "text/x-python",
   "name": "python",
   "nbconvert_exporter": "python",
   "pygments_lexer": "ipython3",
   "version": "3.10.2"
  }
 },
 "nbformat": 4,
 "nbformat_minor": 4
}
