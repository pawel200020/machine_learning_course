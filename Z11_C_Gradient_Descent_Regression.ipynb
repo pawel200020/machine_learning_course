{
 "cells": [
  {
   "cell_type": "code",
   "execution_count": 1,
   "metadata": {},
   "outputs": [],
   "source": [
    "import numpy as np\n",
    "\n",
    "import matplotlib as mpl\n",
    "import matplotlib.pyplot as plt"
   ]
  },
  {
   "cell_type": "markdown",
   "metadata": {},
   "source": [
    "# Zad\n",
    "Wygenerujmy punkty w kształcie prostej."
   ]
  },
  {
   "cell_type": "code",
   "execution_count": 23,
   "metadata": {},
   "outputs": [
    {
     "data": {
      "image/png": "[encoded data removed]",
      "text/plain": [
       "<Figure size 432x288 with 1 Axes>"
      ]
     },
     "metadata": {
      "needs_background": "light"
     },
     "output_type": "display_data"
    }
   ],
   "source": [
    "X = 2 * np.random.rand(100, 1)\n",
    "y = 4 + 3 * X + np.random.randn(100, 1)\n",
    "\n",
    "plt.plot(X, y, \"b.\")\n",
    "plt.xlabel(\"$x_1$\", fontsize=18)\n",
    "plt.ylabel(\"$y$\", rotation=0, fontsize=18)\n",
    "plt.axis([0, 2, 0, 15])\n",
    "plt.show()"
   ]
  },
  {
   "cell_type": "markdown",
   "metadata": {},
   "source": [
    "# Zad \n",
    "Wyznacz parametry prostej regresji (najmniejszych kwadratów) ze wzoru:\n",
    "\n",
    "$$\n",
    "\\theta= (X^TX)^{-1}  X^T  y; \n",
    "$$\n",
    "\n",
    "gdzie \n",
    "$$\n",
    "X = \n",
    "\\begin{bmatrix}\n",
    "1, x_1 \\\\\n",
    "1, x_2 \\\\\n",
    "\\vdots, \\vdots \\\\\n",
    "1, x_n \\\\\n",
    "\\end{bmatrix}\n",
    "$$\n",
    "\n",
    "Zwizualizuj wynik."
   ]
  },
  {
   "cell_type": "code",
   "execution_count": 26,
   "metadata": {},
   "outputs": [
    {
     "data": {
      "text/plain": [
       "array([[4.38006544],\n",
       "       [2.6634436 ]])"
      ]
     },
     "execution_count": 26,
     "metadata": {},
     "output_type": "execute_result"
    }
   ],
   "source": [
    "X_b = np.c_[np.ones((100, 1)), X]  # add x0 = 1 to each instance\n",
    "theta_best = np.linalg.inv(X_b.T.dot(X_b)).dot(X_b.T).dot(y)\n",
    "\n",
    "theta_best"
   ]
  },
  {
   "cell_type": "code",
   "execution_count": 42,
   "metadata": {},
   "outputs": [
    {
     "name": "stdout",
     "output_type": "stream",
     "text": [
      "Wyraz wolny jest równy: [4.38]\n",
      "Współczynnik kierunkowy wynosi: [[2.663]]\n",
      "Współczynnik dopasowania wynosi: 0.653\n"
     ]
    },
    {
     "data": {
      "text/plain": [
       "[]"
      ]
     },
     "execution_count": 42,
     "metadata": {},
     "output_type": "execute_result"
    },
    {
     "data": {
      "text/plain": [
       "<Figure size 144x144 with 0 Axes>"
      ]
     },
     "metadata": {},
     "output_type": "display_data"
    },
    {
     "data": {
      "image/png": "[encoded data removed]",
      "text/plain": [
       "<Figure size 432x288 with 1 Axes>"
      ]
     },
     "metadata": {
      "needs_background": "light"
     },
     "output_type": "display_data"
    }
   ],
   "source": [
    "import numpy as np\n",
    "import matplotlib.pyplot as plt\n",
    "import sklearn.linear_model as slm\n",
    "\n",
    "regresja = slm.LinearRegression()\n",
    "\n",
    "\n",
    "\n",
    "regresja.fit(X, y)\n",
    "\n",
    "\n",
    "print('Wyraz wolny jest równy: %s' % np.round(regresja.intercept_,3))\n",
    "print('Współczynnik kierunkowy wynosi: %s' % np.round(regresja.coef_,3))\n",
    "print('Współczynnik dopasowania wynosi: %s' % np.round(regresja.score(X,y),3))\n",
    "plt.figure(figsize=(2,2)) \n",
    "w0, [w1] = regresja.intercept_, regresja.coef_\n",
    "fig, ax = plt.subplots()\n",
    "ax.scatter(X, y)\n",
    "yreg = w0 + w1*x\n",
    "x = np.array([0, 10])\n",
    "ax.plot(x, yreg, color='red')\n",
    "\n",
    "plt.plot()"
   ]
  },
  {
   "cell_type": "code",
   "execution_count": 4,
   "metadata": {},
   "outputs": [
    {
     "data": {
      "image/png": "[encoded data removed]",
      "text/plain": [
       "<Figure size 432x288 with 1 Axes>"
      ]
     },
     "metadata": {
      "needs_background": "light"
     },
     "output_type": "display_data"
    }
   ],
   "source": [
    "plt.plot(X_new, y_predict, \"r-\")\n",
    "plt.plot(X, y, \"b.\")\n",
    "plt.axis([0, 2, 0, 15])\n",
    "plt.show()"
   ]
  },
  {
   "cell_type": "markdown",
   "metadata": {},
   "source": [
    "# Zad.\n",
    "Prównaj z wynikiem funkcji:\n",
    "```python\n",
    "LinearRegression()\n",
    "```"
   ]
  },
  {
   "cell_type": "markdown",
   "metadata": {},
   "source": [
    "# Zad.\n",
    "Wykonaj algorytm minimalizacji gradientowej (w prostej petli).\n",
    "Wykorzystaj pochodną.\n",
    "\n",
    "Funkcja kosztu regresji:\n",
    "$$\n",
    "MSE(X;\\theta) = \\frac{1}{m} \\sum ( \\theta^T x_i - y_i  )^2.\n",
    "$$\n",
    "\n",
    "Pochodna funkcja kosztu regresji:\n",
    "\n",
    "$$\n",
    "\\frac{\\partial}{\\partial \\theta_j}MSE(X;\\theta) = \\frac{2}{m} \\sum ( \\theta^T x_i - y_i  )^2 x_i^{j}.\n",
    "$$\n",
    "\n",
    "Czyli gradient wynosi:\n",
    "\n",
    "$$\n",
    "\\nabla_{\\theta}MSE(X;\\theta) = \n",
    "\\begin{bmatrix}\n",
    "    \\frac{\\partial}{\\partial \\theta_0}MSE\\\\\n",
    "    \\frac{\\partial}{\\partial \\theta_1}MSE\\\\\n",
    "    \\vdots \\\\\n",
    "    \\frac{\\partial}{\\partial \\theta_d}MSE\n",
    "\\end{bmatrix}\n",
    "=\n",
    "\\frac{2}{m} X^T(\\theta^TX - Y  ).\n",
    "$$\n",
    "\n",
    "Metoda gradientowa\n",
    "\n",
    "$$\n",
    "\\theta^{\\small \\mbox{Nex step}} = \\theta - \\eta \\nabla_{\\theta} MSE\n",
    "$$\n",
    "\n",
    "### Zapisz wszystkie $\\theta$ w liście "
   ]
  },
  {
   "cell_type": "code",
   "execution_count": 43,
   "metadata": {},
   "outputs": [],
   "source": [
    "def gradient_descent(gradient, start, learn_rate, n_iter):\n",
    "\n",
    "    vector = start\n",
    "\n",
    "    for _ in range(n_iter):\n",
    "\n",
    "        diff = -learn_rate * gradient(vector)\n",
    "\n",
    "        vector += diff\n",
    "\n",
    "    return vector"
   ]
  },
  {
   "cell_type": "code",
   "execution_count": 47,
   "metadata": {},
   "outputs": [
    {
     "name": "stdout",
     "output_type": "stream",
     "text": [
      "[[-0.77404921]\n",
      " [ 0.03304555]]\n",
      "[]\n"
     ]
    }
   ],
   "source": [
    "eta = 0.1  # learning rate\n",
    "n_iterations = 1000\n",
    "m = 100\n",
    "theta_path_bgd = []\n",
    "\n",
    "theta_0 = np.random.randn(2,1)  # random initialization\n",
    "\n",
    "theta = theta_0\n",
    "print(theta)\n",
    "print(theta_path_bgd)\n"
   ]
  },
  {
   "cell_type": "code",
   "execution_count": 50,
   "metadata": {},
   "outputs": [
    {
     "name": "stdout",
     "output_type": "stream",
     "text": [
      "-1.644512176459012\n",
      "-1.644512176459012\n"
     ]
    }
   ],
   "source": [
    "for i in theta:\n",
    "    res = gradient_descent(gradient=lambda x: w0 + w1*x, start= i, learn_rate=eta,n_iter=n_iterations)\n",
    "    for j in res:\n",
    "        print(j)"
   ]
  },
  {
   "cell_type": "markdown",
   "metadata": {},
   "source": [
    "# Zad\n",
    "Zaimplemrntu Stochastic Gradient Descent.\n",
    "\n",
    "### Zapisz wszystkie $\\theta$ w liście "
   ]
  },
  {
   "cell_type": "code",
   "execution_count": 10,
   "metadata": {},
   "outputs": [],
   "source": [
    "theta_path_sgd = []\n",
    "m = len(X_b)\n",
    "np.random.seed(42)"
   ]
  },
  {
   "cell_type": "code",
   "execution_count": 3,
   "metadata": {},
   "outputs": [],
   "source": [
    "eta = 0.1  # learning rate\n",
    "n_iterations = 1000\n",
    "m = 100\n",
    "\n",
    "theta = theta_0\n"
   ]
  },
  {
   "cell_type": "code",
   "execution_count": 51,
   "metadata": {},
   "outputs": [],
   "source": [
    "def sgd(\n",
    "\n",
    "    gradient, x, y, start, learn_rate=0.1, batch_size=1, n_iter=50,\n",
    "\n",
    "    tolerance=1e-06, dtype=\"float64\", random_state=None\n",
    "\n",
    "):\n",
    "\n",
    "    # Checking if the gradient is callable\n",
    "\n",
    "    if not callable(gradient):\n",
    "\n",
    "        raise TypeError(\"'gradient' must be callable\")\n",
    "\n",
    "\n",
    "    # Setting up the data type for NumPy arrays\n",
    "\n",
    "    dtype_ = np.dtype(dtype)\n",
    "\n",
    "\n",
    "    # Converting x and y to NumPy arrays\n",
    "\n",
    "    x, y = np.array(x, dtype=dtype_), np.array(y, dtype=dtype_)\n",
    "\n",
    "    n_obs = x.shape[0]\n",
    "\n",
    "    if n_obs != y.shape[0]:\n",
    "\n",
    "        raise ValueError(\"'x' and 'y' lengths do not match\")\n",
    "\n",
    "    xy = np.c_[x.reshape(n_obs, -1), y.reshape(n_obs, 1)]\n",
    "\n",
    "\n",
    "    # Initializing the random number generator\n",
    "\n",
    "    seed = None if random_state is None else int(random_state)\n",
    "\n",
    "    rng = np.random.default_rng(seed=seed)\n",
    "\n",
    "\n",
    "    # Initializing the values of the variables\n",
    "\n",
    "    vector = np.array(start, dtype=dtype_)\n",
    "\n",
    "\n",
    "    # Setting up and checking the learning rate\n",
    "\n",
    "    learn_rate = np.array(learn_rate, dtype=dtype_)\n",
    "\n",
    "    if np.any(learn_rate <= 0):\n",
    "\n",
    "        raise ValueError(\"'learn_rate' must be greater than zero\")\n",
    "\n",
    "\n",
    "    # Setting up and checking the size of minibatches\n",
    "\n",
    "    batch_size = int(batch_size)\n",
    "\n",
    "    if not 0 < batch_size <= n_obs:\n",
    "\n",
    "        raise ValueError(\n",
    "\n",
    "            \"'batch_size' must be greater than zero and less than \"\n",
    "\n",
    "            \"or equal to the number of observations\"\n",
    "\n",
    "        )\n",
    "\n",
    "\n",
    "    # Setting up and checking the maximal number of iterations\n",
    "\n",
    "    n_iter = int(n_iter)\n",
    "\n",
    "    if n_iter <= 0:\n",
    "\n",
    "        raise ValueError(\"'n_iter' must be greater than zero\")\n",
    "\n",
    "\n",
    "    # Setting up and checking the tolerance\n",
    "\n",
    "    tolerance = np.array(tolerance, dtype=dtype_)\n",
    "\n",
    "    if np.any(tolerance <= 0):\n",
    "\n",
    "        raise ValueError(\"'tolerance' must be greater than zero\")\n",
    "\n",
    "\n",
    "    # Performing the gradient descent loop\n",
    "\n",
    "    for _ in range(n_iter):\n",
    "\n",
    "        # Shuffle x and y\n",
    "\n",
    "        rng.shuffle(xy)\n",
    "\n",
    "\n",
    "        # Performing minibatch moves\n",
    "\n",
    "        for start in range(0, n_obs, batch_size):\n",
    "\n",
    "            stop = start + batch_size\n",
    "\n",
    "            x_batch, y_batch = xy[start:stop, :-1], xy[start:stop, -1:]\n",
    "\n",
    "\n",
    "            # Recalculating the difference\n",
    "\n",
    "            grad = np.array(gradient(x_batch, y_batch, vector), dtype_)\n",
    "\n",
    "            diff = -learn_rate * grad\n",
    "\n",
    "\n",
    "            # Checking if the absolute difference is small enough\n",
    "\n",
    "            if np.all(np.abs(diff) <= tolerance):\n",
    "\n",
    "                break\n",
    "\n",
    "\n",
    "            # Updating the values of the variables\n",
    "\n",
    "            vector += diff\n",
    "\n",
    "\n",
    "    return vector if vector.shape else vector.item()"
   ]
  },
  {
   "cell_type": "code",
   "execution_count": 55,
   "metadata": {},
   "outputs": [
    {
     "data": {
      "text/plain": [
       "array([4.38066395, 2.66205935])"
      ]
     },
     "execution_count": 55,
     "metadata": {},
     "output_type": "execute_result"
    }
   ],
   "source": [
    "def ssr_gradient(x, y, b):\n",
    "    res = b[0] + b[1] * x - y\n",
    "    return res.mean(), (res * x).mean()  # .mean() is a method of np.ndarray\n",
    "\n",
    "\n",
    "sgd(ssr_gradient, X, y, start=[0.5, 0.5], learn_rate=0.0008,batch_size=3, n_iter=100_000, random_state=0)"
   ]
  },
  {
   "cell_type": "code",
   "execution_count": 13,
   "metadata": {},
   "outputs": [
    {
     "name": "stdout",
     "output_type": "stream",
     "text": [
      "[[4.56308925]\n",
      " [3.08139533]]\n"
     ]
    }
   ],
   "source": []
  },
  {
   "cell_type": "markdown",
   "metadata": {},
   "source": [
    "# Zad\n",
    "Zaimplemrntu Mini-batch gradient descent\n",
    "\n",
    "### Zapisz wszystkie $\\theta$ w liście "
   ]
  },
  {
   "cell_type": "code",
   "execution_count": 4,
   "metadata": {},
   "outputs": [],
   "source": [
    "theta_path_mgd = []\n",
    "\n",
    "n_iterations = 50\n",
    "minibatch_size = 20\n",
    "\n",
    "theta = theta_0"
   ]
  },
  {
   "cell_type": "code",
   "execution_count": 5,
   "metadata": {},
   "outputs": [],
   "source": [
    "print(theta)"
   ]
  },
  {
   "cell_type": "markdown",
   "metadata": {},
   "source": [
    "# Zad\n",
    "Narysuj jak zmieniały parametr w różnych metodach."
   ]
  },
  {
   "cell_type": "code",
   "execution_count": 16,
   "metadata": {},
   "outputs": [],
   "source": [
    "theta_path_bgd = np.array(theta_path_bgd)\n",
    "theta_path_sgd = np.array(theta_path_sgd)\n",
    "theta_path_mgd = np.array(theta_path_mgd)"
   ]
  },
  {
   "cell_type": "code",
   "execution_count": 29,
   "metadata": {},
   "outputs": [
    {
     "data": {
      "image/png": "[encoded data removed]",
      "text/plain": [
       "<Figure size 504x288 with 1 Axes>"
      ]
     },
     "metadata": {
      "needs_background": "light"
     },
     "output_type": "display_data"
    }
   ],
   "source": []
  },
  {
   "cell_type": "code",
   "execution_count": null,
   "metadata": {},
   "outputs": [],
   "source": []
  }
 ],
 "metadata": {
  "interpreter": {
   "hash": "29110c1f4855edaa980c663b0284384a8113396a3b62827b7d2d19fbd2631ff4"
  },
  "kernelspec": {
   "display_name": "Python 3.10.4 64-bit (system)",
   "language": "python",
   "name": "python3"
  },
  "language_info": {
   "codemirror_mode": {
    "name": "ipython",
    "version": 3
   },
   "file_extension": ".py",
   "mimetype": "text/x-python",
   "name": "python",
   "nbconvert_exporter": "python",
   "pygments_lexer": "ipython3",
   "version": "3.10.4"
  }
 },
 "nbformat": 4,
 "nbformat_minor": 4
}
